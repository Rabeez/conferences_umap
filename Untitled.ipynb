{
 "cells": [
  {
   "cell_type": "code",
   "execution_count": 21,
   "id": "played-convergence",
   "metadata": {},
   "outputs": [],
   "source": [
    "import numpy as np\n",
    "import pandas as pd\n",
    "import matplotlib.pyplot as plt\n",
    "import seaborn as sns\n",
    "sns.set(style='whitegrid')\n",
    "import plotly.express as px\n",
    "import umap"
   ]
  },
  {
   "cell_type": "code",
   "execution_count": 76,
   "id": "still-gossip",
   "metadata": {},
   "outputs": [
    {
     "data": {
      "text/html": [
       "<div>\n",
       "<style scoped>\n",
       "    .dataframe tbody tr th:only-of-type {\n",
       "        vertical-align: middle;\n",
       "    }\n",
       "\n",
       "    .dataframe tbody tr th {\n",
       "        vertical-align: top;\n",
       "    }\n",
       "\n",
       "    .dataframe thead th {\n",
       "        text-align: right;\n",
       "    }\n",
       "</style>\n",
       "<table border=\"1\" class=\"dataframe\">\n",
       "  <thead>\n",
       "    <tr style=\"text-align: right;\">\n",
       "      <th></th>\n",
       "      <th>name</th>\n",
       "      <th>full_name</th>\n",
       "      <th>group</th>\n",
       "      <th>aaai</th>\n",
       "      <th>acl</th>\n",
       "      <th>asplos</th>\n",
       "      <th>cav</th>\n",
       "      <th>ccs</th>\n",
       "      <th>chi</th>\n",
       "      <th>crypto</th>\n",
       "      <th>...</th>\n",
       "      <th>soda</th>\n",
       "      <th>sosp</th>\n",
       "      <th>sp</th>\n",
       "      <th>stoc</th>\n",
       "      <th>uist</th>\n",
       "      <th>usenix</th>\n",
       "      <th>uss</th>\n",
       "      <th>vr</th>\n",
       "      <th>wine</th>\n",
       "      <th>www</th>\n",
       "    </tr>\n",
       "  </thead>\n",
       "  <tbody>\n",
       "    <tr>\n",
       "      <th>0</th>\n",
       "      <td>aaai</td>\n",
       "      <td>Association for the Advancement of Artificial ...</td>\n",
       "      <td>Machine Learning</td>\n",
       "      <td>0</td>\n",
       "      <td>901</td>\n",
       "      <td>50</td>\n",
       "      <td>137</td>\n",
       "      <td>98</td>\n",
       "      <td>208</td>\n",
       "      <td>11</td>\n",
       "      <td>...</td>\n",
       "      <td>172</td>\n",
       "      <td>21</td>\n",
       "      <td>41</td>\n",
       "      <td>107</td>\n",
       "      <td>68</td>\n",
       "      <td>70</td>\n",
       "      <td>47</td>\n",
       "      <td>116</td>\n",
       "      <td>288</td>\n",
       "      <td>577</td>\n",
       "    </tr>\n",
       "    <tr>\n",
       "      <th>1</th>\n",
       "      <td>acl</td>\n",
       "      <td>Association for Computational Linguistics</td>\n",
       "      <td>Natural Language Processing</td>\n",
       "      <td>901</td>\n",
       "      <td>0</td>\n",
       "      <td>25</td>\n",
       "      <td>15</td>\n",
       "      <td>45</td>\n",
       "      <td>143</td>\n",
       "      <td>3</td>\n",
       "      <td>...</td>\n",
       "      <td>19</td>\n",
       "      <td>14</td>\n",
       "      <td>20</td>\n",
       "      <td>8</td>\n",
       "      <td>56</td>\n",
       "      <td>43</td>\n",
       "      <td>29</td>\n",
       "      <td>41</td>\n",
       "      <td>22</td>\n",
       "      <td>407</td>\n",
       "    </tr>\n",
       "    <tr>\n",
       "      <th>2</th>\n",
       "      <td>asplos</td>\n",
       "      <td>International Conference on Architectural Supp...</td>\n",
       "      <td>Systems</td>\n",
       "      <td>50</td>\n",
       "      <td>25</td>\n",
       "      <td>0</td>\n",
       "      <td>105</td>\n",
       "      <td>170</td>\n",
       "      <td>38</td>\n",
       "      <td>12</td>\n",
       "      <td>...</td>\n",
       "      <td>11</td>\n",
       "      <td>360</td>\n",
       "      <td>209</td>\n",
       "      <td>5</td>\n",
       "      <td>36</td>\n",
       "      <td>500</td>\n",
       "      <td>188</td>\n",
       "      <td>11</td>\n",
       "      <td>0</td>\n",
       "      <td>58</td>\n",
       "    </tr>\n",
       "    <tr>\n",
       "      <th>3</th>\n",
       "      <td>cav</td>\n",
       "      <td>International Conference on Computer-Aided Ver...</td>\n",
       "      <td>Programming Languages</td>\n",
       "      <td>137</td>\n",
       "      <td>15</td>\n",
       "      <td>105</td>\n",
       "      <td>0</td>\n",
       "      <td>165</td>\n",
       "      <td>33</td>\n",
       "      <td>24</td>\n",
       "      <td>...</td>\n",
       "      <td>59</td>\n",
       "      <td>77</td>\n",
       "      <td>153</td>\n",
       "      <td>31</td>\n",
       "      <td>39</td>\n",
       "      <td>48</td>\n",
       "      <td>113</td>\n",
       "      <td>6</td>\n",
       "      <td>29</td>\n",
       "      <td>28</td>\n",
       "    </tr>\n",
       "    <tr>\n",
       "      <th>4</th>\n",
       "      <td>ccs</td>\n",
       "      <td>Conference on Computer and Communications Secu...</td>\n",
       "      <td>Security</td>\n",
       "      <td>98</td>\n",
       "      <td>45</td>\n",
       "      <td>170</td>\n",
       "      <td>165</td>\n",
       "      <td>0</td>\n",
       "      <td>192</td>\n",
       "      <td>925</td>\n",
       "      <td>...</td>\n",
       "      <td>62</td>\n",
       "      <td>126</td>\n",
       "      <td>1366</td>\n",
       "      <td>84</td>\n",
       "      <td>33</td>\n",
       "      <td>250</td>\n",
       "      <td>1516</td>\n",
       "      <td>18</td>\n",
       "      <td>38</td>\n",
       "      <td>274</td>\n",
       "    </tr>\n",
       "    <tr>\n",
       "      <th>...</th>\n",
       "      <td>...</td>\n",
       "      <td>...</td>\n",
       "      <td>...</td>\n",
       "      <td>...</td>\n",
       "      <td>...</td>\n",
       "      <td>...</td>\n",
       "      <td>...</td>\n",
       "      <td>...</td>\n",
       "      <td>...</td>\n",
       "      <td>...</td>\n",
       "      <td>...</td>\n",
       "      <td>...</td>\n",
       "      <td>...</td>\n",
       "      <td>...</td>\n",
       "      <td>...</td>\n",
       "      <td>...</td>\n",
       "      <td>...</td>\n",
       "      <td>...</td>\n",
       "      <td>...</td>\n",
       "      <td>...</td>\n",
       "      <td>...</td>\n",
       "    </tr>\n",
       "    <tr>\n",
       "      <th>65</th>\n",
       "      <td>usenix</td>\n",
       "      <td>Unix Users Group</td>\n",
       "      <td>Systems</td>\n",
       "      <td>70</td>\n",
       "      <td>43</td>\n",
       "      <td>500</td>\n",
       "      <td>48</td>\n",
       "      <td>250</td>\n",
       "      <td>63</td>\n",
       "      <td>17</td>\n",
       "      <td>...</td>\n",
       "      <td>28</td>\n",
       "      <td>564</td>\n",
       "      <td>227</td>\n",
       "      <td>16</td>\n",
       "      <td>24</td>\n",
       "      <td>0</td>\n",
       "      <td>282</td>\n",
       "      <td>12</td>\n",
       "      <td>4</td>\n",
       "      <td>119</td>\n",
       "    </tr>\n",
       "    <tr>\n",
       "      <th>66</th>\n",
       "      <td>uss</td>\n",
       "      <td>USENIX Security Symposia</td>\n",
       "      <td>Security</td>\n",
       "      <td>47</td>\n",
       "      <td>29</td>\n",
       "      <td>188</td>\n",
       "      <td>113</td>\n",
       "      <td>1516</td>\n",
       "      <td>209</td>\n",
       "      <td>290</td>\n",
       "      <td>...</td>\n",
       "      <td>33</td>\n",
       "      <td>179</td>\n",
       "      <td>1361</td>\n",
       "      <td>34</td>\n",
       "      <td>31</td>\n",
       "      <td>282</td>\n",
       "      <td>0</td>\n",
       "      <td>10</td>\n",
       "      <td>13</td>\n",
       "      <td>258</td>\n",
       "    </tr>\n",
       "    <tr>\n",
       "      <th>67</th>\n",
       "      <td>vr</td>\n",
       "      <td>Virtual Reality Conference</td>\n",
       "      <td>Other</td>\n",
       "      <td>116</td>\n",
       "      <td>41</td>\n",
       "      <td>11</td>\n",
       "      <td>6</td>\n",
       "      <td>18</td>\n",
       "      <td>720</td>\n",
       "      <td>7</td>\n",
       "      <td>...</td>\n",
       "      <td>2</td>\n",
       "      <td>3</td>\n",
       "      <td>7</td>\n",
       "      <td>2</td>\n",
       "      <td>517</td>\n",
       "      <td>12</td>\n",
       "      <td>10</td>\n",
       "      <td>0</td>\n",
       "      <td>7</td>\n",
       "      <td>42</td>\n",
       "    </tr>\n",
       "    <tr>\n",
       "      <th>68</th>\n",
       "      <td>wine</td>\n",
       "      <td>Conference on Web and Internet Economics</td>\n",
       "      <td>Other</td>\n",
       "      <td>288</td>\n",
       "      <td>22</td>\n",
       "      <td>0</td>\n",
       "      <td>29</td>\n",
       "      <td>38</td>\n",
       "      <td>20</td>\n",
       "      <td>53</td>\n",
       "      <td>...</td>\n",
       "      <td>715</td>\n",
       "      <td>6</td>\n",
       "      <td>20</td>\n",
       "      <td>545</td>\n",
       "      <td>5</td>\n",
       "      <td>4</td>\n",
       "      <td>13</td>\n",
       "      <td>7</td>\n",
       "      <td>0</td>\n",
       "      <td>198</td>\n",
       "    </tr>\n",
       "    <tr>\n",
       "      <th>69</th>\n",
       "      <td>www</td>\n",
       "      <td>World Wide Web Conference</td>\n",
       "      <td>Networks</td>\n",
       "      <td>577</td>\n",
       "      <td>407</td>\n",
       "      <td>58</td>\n",
       "      <td>28</td>\n",
       "      <td>274</td>\n",
       "      <td>302</td>\n",
       "      <td>26</td>\n",
       "      <td>...</td>\n",
       "      <td>185</td>\n",
       "      <td>34</td>\n",
       "      <td>238</td>\n",
       "      <td>132</td>\n",
       "      <td>100</td>\n",
       "      <td>119</td>\n",
       "      <td>258</td>\n",
       "      <td>42</td>\n",
       "      <td>198</td>\n",
       "      <td>0</td>\n",
       "    </tr>\n",
       "  </tbody>\n",
       "</table>\n",
       "<p>70 rows × 73 columns</p>\n",
       "</div>"
      ],
      "text/plain": [
       "      name                                          full_name  \\\n",
       "0     aaai  Association for the Advancement of Artificial ...   \n",
       "1      acl          Association for Computational Linguistics   \n",
       "2   asplos  International Conference on Architectural Supp...   \n",
       "3      cav  International Conference on Computer-Aided Ver...   \n",
       "4      ccs  Conference on Computer and Communications Secu...   \n",
       "..     ...                                                ...   \n",
       "65  usenix                                   Unix Users Group   \n",
       "66     uss                           USENIX Security Symposia   \n",
       "67      vr                         Virtual Reality Conference   \n",
       "68    wine           Conference on Web and Internet Economics   \n",
       "69     www                          World Wide Web Conference   \n",
       "\n",
       "                          group  aaai  acl  asplos  cav   ccs  chi  crypto  \\\n",
       "0              Machine Learning     0  901      50  137    98  208      11   \n",
       "1   Natural Language Processing   901    0      25   15    45  143       3   \n",
       "2                       Systems    50   25       0  105   170   38      12   \n",
       "3         Programming Languages   137   15     105    0   165   33      24   \n",
       "4                      Security    98   45     170  165     0  192     925   \n",
       "..                          ...   ...  ...     ...  ...   ...  ...     ...   \n",
       "65                      Systems    70   43     500   48   250   63      17   \n",
       "66                     Security    47   29     188  113  1516  209     290   \n",
       "67                        Other   116   41      11    6    18  720       7   \n",
       "68                        Other   288   22       0   29    38   20      53   \n",
       "69                     Networks   577  407      58   28   274  302      26   \n",
       "\n",
       "    ...  soda  sosp    sp  stoc  uist  usenix   uss   vr  wine  www  \n",
       "0   ...   172    21    41   107    68      70    47  116   288  577  \n",
       "1   ...    19    14    20     8    56      43    29   41    22  407  \n",
       "2   ...    11   360   209     5    36     500   188   11     0   58  \n",
       "3   ...    59    77   153    31    39      48   113    6    29   28  \n",
       "4   ...    62   126  1366    84    33     250  1516   18    38  274  \n",
       "..  ...   ...   ...   ...   ...   ...     ...   ...  ...   ...  ...  \n",
       "65  ...    28   564   227    16    24       0   282   12     4  119  \n",
       "66  ...    33   179  1361    34    31     282     0   10    13  258  \n",
       "67  ...     2     3     7     2   517      12    10    0     7   42  \n",
       "68  ...   715     6    20   545     5       4    13    7     0  198  \n",
       "69  ...   185    34   238   132   100     119   258   42   198    0  \n",
       "\n",
       "[70 rows x 73 columns]"
      ]
     },
     "execution_count": 76,
     "metadata": {},
     "output_type": "execute_result"
    }
   ],
   "source": [
    "data = pd.read_csv('data.csv')\n",
    "data"
   ]
  },
  {
   "cell_type": "code",
   "execution_count": 93,
   "id": "accepted-costume",
   "metadata": {},
   "outputs": [
    {
     "name": "stdout",
     "output_type": "stream",
     "text": [
      "Wall time: 789 ms\n"
     ]
    },
    {
     "data": {
      "application/vnd.plotly.v1+json": {
       "config": {
        "plotlyServerURL": "https://plot.ly"
       },
       "data": [
        {
         "customdata": [
          [
           "Machine Learning",
           "Association for the Advancement of Artificial Intelligence"
          ],
          [
           "Machine Learning",
           "International Conference on Machine Learning"
          ],
          [
           "Machine Learning",
           "International Joint Conference on Artificial Intelligence"
          ],
          [
           "Machine Learning",
           "Special Interest Group in Knowledge Discovery and Data Mining"
          ],
          [
           "Machine Learning",
           "Neural Information Processing Systems"
          ],
          [
           "Machine Learning",
           "Special Interest Group on Information Retrieval"
          ]
         ],
         "hovertemplate": "<b>%{hovertext}</b><br><br>group=%{customdata[0]}<br>name=%{text}<br>full_name=%{customdata[1]}<extra></extra>",
         "hovertext": [
          "aaai",
          "icml",
          "ijcai",
          "kdd",
          "nips",
          "sigir"
         ],
         "legendgroup": "Machine Learning",
         "marker": {
          "color": "#636efa",
          "size": 10,
          "symbol": "circle"
         },
         "mode": "markers+text",
         "name": "Machine Learning",
         "orientation": "v",
         "showlegend": true,
         "text": [
          "aaai",
          "icml",
          "ijcai",
          "kdd",
          "nips",
          "sigir"
         ],
         "type": "scatter",
         "x": [
          -8.954367637634277,
          -9.468535423278809,
          -9.303055763244629,
          -8.975172996520996,
          -9.2799711227417,
          -8.544034957885742
         ],
         "xaxis": "x",
         "y": [
          -7.187094211578369,
          -7.426512241363525,
          -7.08644437789917,
          -7.515634059906006,
          -6.9809160232543945,
          -7.695535182952881
         ],
         "yaxis": "y"
        },
        {
         "customdata": [
          [
           "Natural Language Processing",
           "Association for Computational Linguistics"
          ],
          [
           "Natural Language Processing",
           "Empirical Methods in Natural Language Processing"
          ],
          [
           "Natural Language Processing",
           "North American Chapter of the Association for Computational Linguistics"
          ]
         ],
         "hovertemplate": "<b>%{hovertext}</b><br><br>group=%{customdata[0]}<br>name=%{text}<br>full_name=%{customdata[1]}<extra></extra>",
         "hovertext": [
          "acl",
          "emnlp",
          "naacl"
         ],
         "legendgroup": "Natural Language Processing",
         "marker": {
          "color": "#EF553B",
          "size": 10,
          "symbol": "diamond"
         },
         "mode": "markers+text",
         "name": "Natural Language Processing",
         "orientation": "v",
         "showlegend": true,
         "text": [
          "acl",
          "emnlp",
          "naacl"
         ],
         "type": "scatter",
         "x": [
          -8.610108375549316,
          -8.704313278198242,
          -8.817193984985352
         ],
         "xaxis": "x",
         "y": [
          -7.980712413787842,
          -7.482378005981445,
          -8.118244171142578
         ],
         "yaxis": "y"
        },
        {
         "customdata": [
          [
           "Systems",
           "International Conference on Architectural Support for Programming Languages and Operating Systems"
          ],
          [
           "Systems",
           "European Conference on Computer Systems"
          ],
          [
           "Systems",
           "Symposium on Operating Systems Design and Implementation"
          ],
          [
           "Systems",
           "Symposium on Operating Systems Principles"
          ],
          [
           "Systems",
           "Unix Users Group"
          ]
         ],
         "hovertemplate": "<b>%{hovertext}</b><br><br>group=%{customdata[0]}<br>name=%{text}<br>full_name=%{customdata[1]}<extra></extra>",
         "hovertext": [
          "asplos",
          "eurosys",
          "osdi",
          "sosp",
          "usenix"
         ],
         "legendgroup": "Systems",
         "marker": {
          "color": "#00cc96",
          "size": 10,
          "symbol": "square"
         },
         "mode": "markers+text",
         "name": "Systems",
         "orientation": "v",
         "showlegend": true,
         "text": [
          "asplos",
          "eurosys",
          "osdi",
          "sosp",
          "usenix"
         ],
         "type": "scatter",
         "x": [
          -8.09270191192627,
          -7.429092884063721,
          -7.807078838348389,
          -7.58575439453125,
          -7.677968502044678
         ],
         "xaxis": "x",
         "y": [
          -12.176833152770996,
          -11.14893913269043,
          -11.06000804901123,
          -10.72726058959961,
          -11.034886360168457
         ],
         "yaxis": "y"
        },
        {
         "customdata": [
          [
           "Programming Languages",
           "International Conference on Computer-Aided Verification"
          ],
          [
           "Programming Languages",
           "International Conference on Functional Programming"
          ],
          [
           "Programming Languages",
           "Symposium on Logic in Computer Science"
          ],
          [
           "Programming Languages",
           "Conference on Object-Oriented Programming Systems, Languages, and Applications"
          ],
          [
           "Programming Languages",
           "Conference on Programming Language Design and Implementation"
          ],
          [
           "Programming Languages",
           "Symposium on Principles of Programming Languages"
          ]
         ],
         "hovertemplate": "<b>%{hovertext}</b><br><br>group=%{customdata[0]}<br>name=%{text}<br>full_name=%{customdata[1]}<extra></extra>",
         "hovertext": [
          "cav",
          "icfp",
          "lics",
          "oopsla",
          "pldi",
          "popl"
         ],
         "legendgroup": "Programming Languages",
         "marker": {
          "color": "#ab63fa",
          "size": 10,
          "symbol": "x"
         },
         "mode": "markers+text",
         "name": "Programming Languages",
         "orientation": "v",
         "showlegend": true,
         "text": [
          "cav",
          "icfp",
          "lics",
          "oopsla",
          "pldi",
          "popl"
         ],
         "type": "scatter",
         "x": [
          -10.625945091247559,
          -10.520125389099121,
          -10.351118087768555,
          -11.001750946044922,
          -10.832358360290527,
          -10.891610145568848
         ],
         "xaxis": "x",
         "y": [
          -10.788399696350098,
          -10.510762214660645,
          -10.275653839111328,
          -11.025014877319336,
          -10.68956184387207,
          -10.833773612976074
         ],
         "yaxis": "y"
        },
        {
         "customdata": [
          [
           "Security",
           "Conference on Computer and Communications Security"
          ],
          [
           "Security",
           "Network and Distributed System Security Symposium"
          ],
          [
           "Security",
           "Symposium on Security and Privacy"
          ],
          [
           "Security",
           "USENIX Security Symposia"
          ]
         ],
         "hovertemplate": "<b>%{hovertext}</b><br><br>group=%{customdata[0]}<br>name=%{text}<br>full_name=%{customdata[1]}<extra></extra>",
         "hovertext": [
          "ccs",
          "ndss",
          "sp",
          "uss"
         ],
         "legendgroup": "Security",
         "marker": {
          "color": "#FFA15A",
          "size": 10,
          "symbol": "cross"
         },
         "mode": "markers+text",
         "name": "Security",
         "orientation": "v",
         "showlegend": true,
         "text": [
          "ccs",
          "ndss",
          "sp",
          "uss"
         ],
         "type": "scatter",
         "x": [
          -6.935975074768066,
          -7.358266830444336,
          -7.211978912353516,
          -7.155172348022461
         ],
         "xaxis": "x",
         "y": [
          -10.054014205932617,
          -10.013031959533691,
          -9.792267799377441,
          -10.238226890563965
         ],
         "yaxis": "y"
        },
        {
         "customdata": [
          [
           "Human Computer Interaction",
           "Conference on Human Factors in Computing Systems"
          ],
          [
           "Human Computer Interaction",
           "International Symposium on Handheld and Ubiquitous Computing"
          ],
          [
           "Human Computer Interaction",
           "International Conference on Pervasive Computing and Communications"
          ],
          [
           "Human Computer Interaction",
           "Symposium on User Interface Software and Technology"
          ]
         ],
         "hovertemplate": "<b>%{hovertext}</b><br><br>group=%{customdata[0]}<br>name=%{text}<br>full_name=%{customdata[1]}<extra></extra>",
         "hovertext": [
          "chi",
          "huc",
          "pervasive",
          "uist"
         ],
         "legendgroup": "Human Computer Interaction",
         "marker": {
          "color": "#19d3f3",
          "size": 10,
          "symbol": "circle"
         },
         "mode": "markers+text",
         "name": "Human Computer Interaction",
         "orientation": "v",
         "showlegend": true,
         "text": [
          "chi",
          "huc",
          "pervasive",
          "uist"
         ],
         "type": "scatter",
         "x": [
          -9.15072250366211,
          -8.915658950805664,
          -9.319060325622559,
          -8.826489448547363
         ],
         "xaxis": "x",
         "y": [
          -10.012192726135254,
          -9.793310165405273,
          -9.96796989440918,
          -9.571235656738281
         ],
         "yaxis": "y"
        },
        {
         "customdata": [
          [
           "Cryptography",
           "International Cryptology Conference"
          ],
          [
           "Cryptography",
           "Conference on the Theory and Applications of Cryptographic Techniques"
          ]
         ],
         "hovertemplate": "<b>%{hovertext}</b><br><br>group=%{customdata[0]}<br>name=%{text}<br>full_name=%{customdata[1]}<extra></extra>",
         "hovertext": [
          "crypto",
          "eurocrypt"
         ],
         "legendgroup": "Cryptography",
         "marker": {
          "color": "#FF6692",
          "size": 10,
          "symbol": "diamond"
         },
         "mode": "markers+text",
         "name": "Cryptography",
         "orientation": "v",
         "showlegend": true,
         "text": [
          "crypto",
          "eurocrypt"
         ],
         "type": "scatter",
         "x": [
          -7.665451526641846,
          -7.19118595123291
         ],
         "xaxis": "x",
         "y": [
          -9.74897575378418,
          -9.464332580566406
         ],
         "yaxis": "y"
        },
        {
         "customdata": [
          [
           "Computer Vision",
           "Computer Vision and Pattern Recognition"
          ],
          [
           "Computer Vision",
           "European Conference for Computer Vision"
          ],
          [
           "Computer Vision",
           "International Conference on Conputer Vision"
          ]
         ],
         "hovertemplate": "<b>%{hovertext}</b><br><br>group=%{customdata[0]}<br>name=%{text}<br>full_name=%{customdata[1]}<extra></extra>",
         "hovertext": [
          "cvpr",
          "eccv",
          "iccv"
         ],
         "legendgroup": "Computer Vision",
         "marker": {
          "color": "#B6E880",
          "size": 10,
          "symbol": "square"
         },
         "mode": "markers+text",
         "name": "Computer Vision",
         "orientation": "v",
         "showlegend": true,
         "text": [
          "cvpr",
          "eccv",
          "iccv"
         ],
         "type": "scatter",
         "x": [
          -9.44993782043457,
          -9.897970199584961,
          -9.596378326416016
         ],
         "xaxis": "x",
         "y": [
          -6.86512565612793,
          -7.268154621124268,
          -7.0262627601623535
         ],
         "yaxis": "y"
        },
        {
         "customdata": [
          [
           "Embedded Systems",
           "Design Automation Conference"
          ],
          [
           "Embedded Systems",
           "International Conference on Embedded Software"
          ],
          [
           "Embedded Systems",
           "Real-time and Embedded Technology and Applications Symposium"
          ],
          [
           "Embedded Systems",
           "Real-Time Systems Symposium"
          ]
         ],
         "hovertemplate": "<b>%{hovertext}</b><br><br>group=%{customdata[0]}<br>name=%{text}<br>full_name=%{customdata[1]}<extra></extra>",
         "hovertext": [
          "dac",
          "emsoft",
          "rtas",
          "rtss"
         ],
         "legendgroup": "Embedded Systems",
         "marker": {
          "color": "#FF97FF",
          "size": 10,
          "symbol": "x"
         },
         "mode": "markers+text",
         "name": "Embedded Systems",
         "orientation": "v",
         "showlegend": true,
         "text": [
          "dac",
          "emsoft",
          "rtas",
          "rtss"
         ],
         "type": "scatter",
         "x": [
          -7.686625003814697,
          -9.5663423538208,
          -9.430148124694824,
          -9.12791633605957
         ],
         "xaxis": "x",
         "y": [
          -11.995477676391602,
          -10.753281593322754,
          -10.624616622924805,
          -10.881552696228027
         ],
         "yaxis": "y"
        },
        {
         "customdata": [
          [
           "Databases",
           "Conference on File and Storage Technologies"
          ],
          [
           "Databases",
           "International Conference on Data Engineering"
          ],
          [
           "Databases",
           "Symposium on Principles of Database Systems"
          ],
          [
           "Databases",
           "Special Interest Group on Management of Data"
          ]
         ],
         "hovertemplate": "<b>%{hovertext}</b><br><br>group=%{customdata[0]}<br>name=%{text}<br>full_name=%{customdata[1]}<extra></extra>",
         "hovertext": [
          "fast",
          "icde",
          "pods",
          "sigmod"
         ],
         "legendgroup": "Databases",
         "marker": {
          "color": "#FECB52",
          "size": 10,
          "symbol": "cross"
         },
         "mode": "markers+text",
         "name": "Databases",
         "orientation": "v",
         "showlegend": true,
         "text": [
          "fast",
          "icde",
          "pods",
          "sigmod"
         ],
         "type": "scatter",
         "x": [
          -8.40671157836914,
          -9.150668144226074,
          -9.821292877197266,
          -8.45771598815918
         ],
         "xaxis": "x",
         "y": [
          -11.248515129089355,
          -7.9319305419921875,
          -9.502217292785645,
          -7.815402507781982
         ],
         "yaxis": "y"
        },
        {
         "customdata": [
          [
           "Algorithms",
           "Symposium on Foundations of Computer Science"
          ],
          [
           "Algorithms",
           "Symposium on Discrete Algorithms"
          ],
          [
           "Algorithms",
           "Symposium on Theory of Computing"
          ]
         ],
         "hovertemplate": "<b>%{hovertext}</b><br><br>group=%{customdata[0]}<br>name=%{text}<br>full_name=%{customdata[1]}<extra></extra>",
         "hovertext": [
          "focs",
          "soda",
          "stoc"
         ],
         "legendgroup": "Algorithms",
         "marker": {
          "color": "#636efa",
          "size": 10,
          "symbol": "circle"
         },
         "mode": "markers+text",
         "name": "Algorithms",
         "orientation": "v",
         "showlegend": true,
         "text": [
          "focs",
          "soda",
          "stoc"
         ],
         "type": "scatter",
         "x": [
          -10.612686157226562,
          -10.496174812316895,
          -10.320249557495117
         ],
         "xaxis": "x",
         "y": [
          -9.355815887451172,
          -9.377803802490234,
          -9.384035110473633
         ],
         "yaxis": "y"
        },
        {
         "customdata": [
          [
           "High Performance Computing",
           "International Symposium on High-Performance Computer Architecture"
          ],
          [
           "High Performance Computing",
           "Symposium on High-Performance Parallel and Distributed Computing"
          ],
          [
           "High Performance Computing",
           "International Conference on Supercomputing"
          ],
          [
           "High Performance Computing",
           "Supercomputing Conference"
          ]
         ],
         "hovertemplate": "<b>%{hovertext}</b><br><br>group=%{customdata[0]}<br>name=%{text}<br>full_name=%{customdata[1]}<extra></extra>",
         "hovertext": [
          "hpca",
          "hpdc",
          "ics",
          "sc"
         ],
         "legendgroup": "High Performance Computing",
         "marker": {
          "color": "#EF553B",
          "size": 10,
          "symbol": "diamond"
         },
         "mode": "markers+text",
         "name": "High Performance Computing",
         "orientation": "v",
         "showlegend": true,
         "text": [
          "hpca",
          "hpdc",
          "ics",
          "sc"
         ],
         "type": "scatter",
         "x": [
          -7.7462663650512695,
          -7.968120098114014,
          -8.238289833068848,
          -8.280961036682129
         ],
         "xaxis": "x",
         "y": [
          -12.390443801879883,
          -11.590015411376953,
          -11.967575073242188,
          -11.865742683410645
         ],
         "yaxis": "y"
        },
        {
         "customdata": [
          [
           "Other",
           "International Conference On Computer Aided Design"
          ],
          [
           "Other",
           "International Conference on Research in Computational Molecular Biology"
          ],
          [
           "Other",
           "Special Interest Group on Economics and Computation"
          ],
          [
           "Other",
           "Special Interest Group on Measurement and Evaluation"
          ],
          [
           "Other",
           "Virtual Reality Conference"
          ],
          [
           "Other",
           "Conference on Web and Internet Economics"
          ]
         ],
         "hovertemplate": "<b>%{hovertext}</b><br><br>group=%{customdata[0]}<br>name=%{text}<br>full_name=%{customdata[1]}<extra></extra>",
         "hovertext": [
          "iccad",
          "recomb",
          "sigecom",
          "sigmetrics",
          "vr",
          "wine"
         ],
         "legendgroup": "Other",
         "marker": {
          "color": "#00cc96",
          "size": 10,
          "symbol": "square"
         },
         "mode": "markers+text",
         "name": "Other",
         "orientation": "v",
         "showlegend": true,
         "text": [
          "iccad",
          "recomb",
          "sigecom",
          "sigmetrics",
          "vr",
          "wine"
         ],
         "type": "scatter",
         "x": [
          -8.736488342285156,
          -9.701024055480957,
          -10.33478832244873,
          -8.43124771118164,
          -9.417572975158691,
          -10.28603458404541
         ],
         "xaxis": "x",
         "y": [
          -11.574817657470703,
          -10.106581687927246,
          -9.19365119934082,
          -10.982667922973633,
          -9.576586723327637,
          -9.524604797363281
         ],
         "yaxis": "y"
        },
        {
         "customdata": [
          [
           "Robotics",
           "International Conference on Robotics and Automation"
          ],
          [
           "Robotics",
           "International Conference on Intelligent Robots and Systems"
          ],
          [
           "Robotics",
           "Robotics: Science and Systems"
          ]
         ],
         "hovertemplate": "<b>%{hovertext}</b><br><br>group=%{customdata[0]}<br>name=%{text}<br>full_name=%{customdata[1]}<extra></extra>",
         "hovertext": [
          "icra",
          "iros",
          "rss"
         ],
         "legendgroup": "Robotics",
         "marker": {
          "color": "#ab63fa",
          "size": 10,
          "symbol": "x"
         },
         "mode": "markers+text",
         "name": "Robotics",
         "orientation": "v",
         "showlegend": true,
         "text": [
          "icra",
          "iros",
          "rss"
         ],
         "type": "scatter",
         "x": [
          -9.318039894104004,
          -8.956792831420898,
          -9.181293487548828
         ],
         "xaxis": "x",
         "y": [
          -8.974316596984863,
          -8.990753173828125,
          -9.307544708251953
         ],
         "yaxis": "y"
        },
        {
         "customdata": [
          [
           "Software Engineering",
           "International Conference on Software Engineering"
          ],
          [
           "Software Engineering",
           "International Symposium on Software Testing and Analysis"
          ],
          [
           "Software Engineering",
           "Knowledge-Based Software Engineering Conference"
          ],
          [
           "Software Engineering",
           "Special Interest Group on Software Engineering"
          ]
         ],
         "hovertemplate": "<b>%{hovertext}</b><br><br>group=%{customdata[0]}<br>name=%{text}<br>full_name=%{customdata[1]}<extra></extra>",
         "hovertext": [
          "icse",
          "issta",
          "kbse",
          "sigsoft"
         ],
         "legendgroup": "Software Engineering",
         "marker": {
          "color": "#FFA15A",
          "size": 10,
          "symbol": "cross"
         },
         "mode": "markers+text",
         "name": "Software Engineering",
         "orientation": "v",
         "showlegend": true,
         "text": [
          "icse",
          "issta",
          "kbse",
          "sigsoft"
         ],
         "type": "scatter",
         "x": [
          -10.432726860046387,
          -10.754335403442383,
          -10.518556594848633,
          -10.609159469604492
         ],
         "xaxis": "x",
         "y": [
          -11.020428657531738,
          -11.342293739318848,
          -11.459128379821777,
          -11.194144248962402
         ],
         "yaxis": "y"
        },
        {
         "customdata": [
          [
           "Networks",
           "Internet Measurement Conference"
          ],
          [
           "Networks",
           "Networked Systems Design and Implementation"
          ],
          [
           "Networks",
           "Special Interest Group on Data Communications"
          ],
          [
           "Networks",
           "World Wide Web Conference"
          ]
         ],
         "hovertemplate": "<b>%{hovertext}</b><br><br>group=%{customdata[0]}<br>name=%{text}<br>full_name=%{customdata[1]}<extra></extra>",
         "hovertext": [
          "imc",
          "nsdi",
          "sigcomm",
          "www"
         ],
         "legendgroup": "Networks",
         "marker": {
          "color": "#19d3f3",
          "size": 10,
          "symbol": "circle"
         },
         "mode": "markers+text",
         "name": "Networks",
         "orientation": "v",
         "showlegend": true,
         "text": [
          "imc",
          "nsdi",
          "sigcomm",
          "www"
         ],
         "type": "scatter",
         "x": [
          -7.878025054931641,
          -7.402878284454346,
          -7.908308029174805,
          -9.080449104309082
         ],
         "xaxis": "x",
         "y": [
          -10.165687561035156,
          -10.663552284240723,
          -10.900362968444824,
          -7.807352066040039
         ],
         "yaxis": "y"
        },
        {
         "customdata": [
          [
           "Computer Architecture",
           "International Symposium on Computer Architecture"
          ],
          [
           "Computer Architecture",
           "International Symposium on Microarchitecture"
          ]
         ],
         "hovertemplate": "<b>%{hovertext}</b><br><br>group=%{customdata[0]}<br>name=%{text}<br>full_name=%{customdata[1]}<extra></extra>",
         "hovertext": [
          "isca",
          "micro"
         ],
         "legendgroup": "Computer Architecture",
         "marker": {
          "color": "#FF6692",
          "size": 10,
          "symbol": "diamond"
         },
         "mode": "markers+text",
         "name": "Computer Architecture",
         "orientation": "v",
         "showlegend": true,
         "text": [
          "isca",
          "micro"
         ],
         "type": "scatter",
         "x": [
          -8.214176177978516,
          -7.953947067260742
         ],
         "xaxis": "x",
         "y": [
          -12.368947982788086,
          -12.03573989868164
         ],
         "yaxis": "y"
        },
        {
         "customdata": [
          [
           "Mobile Computing",
           "International Conference on Mobile Computing"
          ],
          [
           "Mobile Computing",
           "International Conference on Mobile Systems"
          ],
          [
           "Mobile Computing",
           "Conference on Embedded Networked Sensor Systems"
          ]
         ],
         "hovertemplate": "<b>%{hovertext}</b><br><br>group=%{customdata[0]}<br>name=%{text}<br>full_name=%{customdata[1]}<extra></extra>",
         "hovertext": [
          "mobicom",
          "mobisys",
          "sensys"
         ],
         "legendgroup": "Mobile Computing",
         "marker": {
          "color": "#B6E880",
          "size": 10,
          "symbol": "square"
         },
         "mode": "markers+text",
         "name": "Mobile Computing",
         "orientation": "v",
         "showlegend": true,
         "text": [
          "mobicom",
          "mobisys",
          "sensys"
         ],
         "type": "scatter",
         "x": [
          -8.383746147155762,
          -8.616876602172852,
          -8.803839683532715
         ],
         "xaxis": "x",
         "y": [
          -10.309014320373535,
          -10.46721363067627,
          -10.298100471496582
         ],
         "yaxis": "y"
        }
       ],
       "layout": {
        "height": 700,
        "legend": {
         "title": {
          "text": "group"
         },
         "tracegroupgap": 0
        },
        "margin": {
         "t": 60
        },
        "template": {
         "data": {
          "bar": [
           {
            "error_x": {
             "color": "#2a3f5f"
            },
            "error_y": {
             "color": "#2a3f5f"
            },
            "marker": {
             "line": {
              "color": "#E5ECF6",
              "width": 0.5
             }
            },
            "type": "bar"
           }
          ],
          "barpolar": [
           {
            "marker": {
             "line": {
              "color": "#E5ECF6",
              "width": 0.5
             }
            },
            "type": "barpolar"
           }
          ],
          "carpet": [
           {
            "aaxis": {
             "endlinecolor": "#2a3f5f",
             "gridcolor": "white",
             "linecolor": "white",
             "minorgridcolor": "white",
             "startlinecolor": "#2a3f5f"
            },
            "baxis": {
             "endlinecolor": "#2a3f5f",
             "gridcolor": "white",
             "linecolor": "white",
             "minorgridcolor": "white",
             "startlinecolor": "#2a3f5f"
            },
            "type": "carpet"
           }
          ],
          "choropleth": [
           {
            "colorbar": {
             "outlinewidth": 0,
             "ticks": ""
            },
            "type": "choropleth"
           }
          ],
          "contour": [
           {
            "colorbar": {
             "outlinewidth": 0,
             "ticks": ""
            },
            "colorscale": [
             [
              0,
              "#0d0887"
             ],
             [
              0.1111111111111111,
              "#46039f"
             ],
             [
              0.2222222222222222,
              "#7201a8"
             ],
             [
              0.3333333333333333,
              "#9c179e"
             ],
             [
              0.4444444444444444,
              "#bd3786"
             ],
             [
              0.5555555555555556,
              "#d8576b"
             ],
             [
              0.6666666666666666,
              "#ed7953"
             ],
             [
              0.7777777777777778,
              "#fb9f3a"
             ],
             [
              0.8888888888888888,
              "#fdca26"
             ],
             [
              1,
              "#f0f921"
             ]
            ],
            "type": "contour"
           }
          ],
          "contourcarpet": [
           {
            "colorbar": {
             "outlinewidth": 0,
             "ticks": ""
            },
            "type": "contourcarpet"
           }
          ],
          "heatmap": [
           {
            "colorbar": {
             "outlinewidth": 0,
             "ticks": ""
            },
            "colorscale": [
             [
              0,
              "#0d0887"
             ],
             [
              0.1111111111111111,
              "#46039f"
             ],
             [
              0.2222222222222222,
              "#7201a8"
             ],
             [
              0.3333333333333333,
              "#9c179e"
             ],
             [
              0.4444444444444444,
              "#bd3786"
             ],
             [
              0.5555555555555556,
              "#d8576b"
             ],
             [
              0.6666666666666666,
              "#ed7953"
             ],
             [
              0.7777777777777778,
              "#fb9f3a"
             ],
             [
              0.8888888888888888,
              "#fdca26"
             ],
             [
              1,
              "#f0f921"
             ]
            ],
            "type": "heatmap"
           }
          ],
          "heatmapgl": [
           {
            "colorbar": {
             "outlinewidth": 0,
             "ticks": ""
            },
            "colorscale": [
             [
              0,
              "#0d0887"
             ],
             [
              0.1111111111111111,
              "#46039f"
             ],
             [
              0.2222222222222222,
              "#7201a8"
             ],
             [
              0.3333333333333333,
              "#9c179e"
             ],
             [
              0.4444444444444444,
              "#bd3786"
             ],
             [
              0.5555555555555556,
              "#d8576b"
             ],
             [
              0.6666666666666666,
              "#ed7953"
             ],
             [
              0.7777777777777778,
              "#fb9f3a"
             ],
             [
              0.8888888888888888,
              "#fdca26"
             ],
             [
              1,
              "#f0f921"
             ]
            ],
            "type": "heatmapgl"
           }
          ],
          "histogram": [
           {
            "marker": {
             "colorbar": {
              "outlinewidth": 0,
              "ticks": ""
             }
            },
            "type": "histogram"
           }
          ],
          "histogram2d": [
           {
            "colorbar": {
             "outlinewidth": 0,
             "ticks": ""
            },
            "colorscale": [
             [
              0,
              "#0d0887"
             ],
             [
              0.1111111111111111,
              "#46039f"
             ],
             [
              0.2222222222222222,
              "#7201a8"
             ],
             [
              0.3333333333333333,
              "#9c179e"
             ],
             [
              0.4444444444444444,
              "#bd3786"
             ],
             [
              0.5555555555555556,
              "#d8576b"
             ],
             [
              0.6666666666666666,
              "#ed7953"
             ],
             [
              0.7777777777777778,
              "#fb9f3a"
             ],
             [
              0.8888888888888888,
              "#fdca26"
             ],
             [
              1,
              "#f0f921"
             ]
            ],
            "type": "histogram2d"
           }
          ],
          "histogram2dcontour": [
           {
            "colorbar": {
             "outlinewidth": 0,
             "ticks": ""
            },
            "colorscale": [
             [
              0,
              "#0d0887"
             ],
             [
              0.1111111111111111,
              "#46039f"
             ],
             [
              0.2222222222222222,
              "#7201a8"
             ],
             [
              0.3333333333333333,
              "#9c179e"
             ],
             [
              0.4444444444444444,
              "#bd3786"
             ],
             [
              0.5555555555555556,
              "#d8576b"
             ],
             [
              0.6666666666666666,
              "#ed7953"
             ],
             [
              0.7777777777777778,
              "#fb9f3a"
             ],
             [
              0.8888888888888888,
              "#fdca26"
             ],
             [
              1,
              "#f0f921"
             ]
            ],
            "type": "histogram2dcontour"
           }
          ],
          "mesh3d": [
           {
            "colorbar": {
             "outlinewidth": 0,
             "ticks": ""
            },
            "type": "mesh3d"
           }
          ],
          "parcoords": [
           {
            "line": {
             "colorbar": {
              "outlinewidth": 0,
              "ticks": ""
             }
            },
            "type": "parcoords"
           }
          ],
          "pie": [
           {
            "automargin": true,
            "type": "pie"
           }
          ],
          "scatter": [
           {
            "marker": {
             "colorbar": {
              "outlinewidth": 0,
              "ticks": ""
             }
            },
            "type": "scatter"
           }
          ],
          "scatter3d": [
           {
            "line": {
             "colorbar": {
              "outlinewidth": 0,
              "ticks": ""
             }
            },
            "marker": {
             "colorbar": {
              "outlinewidth": 0,
              "ticks": ""
             }
            },
            "type": "scatter3d"
           }
          ],
          "scattercarpet": [
           {
            "marker": {
             "colorbar": {
              "outlinewidth": 0,
              "ticks": ""
             }
            },
            "type": "scattercarpet"
           }
          ],
          "scattergeo": [
           {
            "marker": {
             "colorbar": {
              "outlinewidth": 0,
              "ticks": ""
             }
            },
            "type": "scattergeo"
           }
          ],
          "scattergl": [
           {
            "marker": {
             "colorbar": {
              "outlinewidth": 0,
              "ticks": ""
             }
            },
            "type": "scattergl"
           }
          ],
          "scattermapbox": [
           {
            "marker": {
             "colorbar": {
              "outlinewidth": 0,
              "ticks": ""
             }
            },
            "type": "scattermapbox"
           }
          ],
          "scatterpolar": [
           {
            "marker": {
             "colorbar": {
              "outlinewidth": 0,
              "ticks": ""
             }
            },
            "type": "scatterpolar"
           }
          ],
          "scatterpolargl": [
           {
            "marker": {
             "colorbar": {
              "outlinewidth": 0,
              "ticks": ""
             }
            },
            "type": "scatterpolargl"
           }
          ],
          "scatterternary": [
           {
            "marker": {
             "colorbar": {
              "outlinewidth": 0,
              "ticks": ""
             }
            },
            "type": "scatterternary"
           }
          ],
          "surface": [
           {
            "colorbar": {
             "outlinewidth": 0,
             "ticks": ""
            },
            "colorscale": [
             [
              0,
              "#0d0887"
             ],
             [
              0.1111111111111111,
              "#46039f"
             ],
             [
              0.2222222222222222,
              "#7201a8"
             ],
             [
              0.3333333333333333,
              "#9c179e"
             ],
             [
              0.4444444444444444,
              "#bd3786"
             ],
             [
              0.5555555555555556,
              "#d8576b"
             ],
             [
              0.6666666666666666,
              "#ed7953"
             ],
             [
              0.7777777777777778,
              "#fb9f3a"
             ],
             [
              0.8888888888888888,
              "#fdca26"
             ],
             [
              1,
              "#f0f921"
             ]
            ],
            "type": "surface"
           }
          ],
          "table": [
           {
            "cells": {
             "fill": {
              "color": "#EBF0F8"
             },
             "line": {
              "color": "white"
             }
            },
            "header": {
             "fill": {
              "color": "#C8D4E3"
             },
             "line": {
              "color": "white"
             }
            },
            "type": "table"
           }
          ]
         },
         "layout": {
          "annotationdefaults": {
           "arrowcolor": "#2a3f5f",
           "arrowhead": 0,
           "arrowwidth": 1
          },
          "autotypenumbers": "strict",
          "coloraxis": {
           "colorbar": {
            "outlinewidth": 0,
            "ticks": ""
           }
          },
          "colorscale": {
           "diverging": [
            [
             0,
             "#8e0152"
            ],
            [
             0.1,
             "#c51b7d"
            ],
            [
             0.2,
             "#de77ae"
            ],
            [
             0.3,
             "#f1b6da"
            ],
            [
             0.4,
             "#fde0ef"
            ],
            [
             0.5,
             "#f7f7f7"
            ],
            [
             0.6,
             "#e6f5d0"
            ],
            [
             0.7,
             "#b8e186"
            ],
            [
             0.8,
             "#7fbc41"
            ],
            [
             0.9,
             "#4d9221"
            ],
            [
             1,
             "#276419"
            ]
           ],
           "sequential": [
            [
             0,
             "#0d0887"
            ],
            [
             0.1111111111111111,
             "#46039f"
            ],
            [
             0.2222222222222222,
             "#7201a8"
            ],
            [
             0.3333333333333333,
             "#9c179e"
            ],
            [
             0.4444444444444444,
             "#bd3786"
            ],
            [
             0.5555555555555556,
             "#d8576b"
            ],
            [
             0.6666666666666666,
             "#ed7953"
            ],
            [
             0.7777777777777778,
             "#fb9f3a"
            ],
            [
             0.8888888888888888,
             "#fdca26"
            ],
            [
             1,
             "#f0f921"
            ]
           ],
           "sequentialminus": [
            [
             0,
             "#0d0887"
            ],
            [
             0.1111111111111111,
             "#46039f"
            ],
            [
             0.2222222222222222,
             "#7201a8"
            ],
            [
             0.3333333333333333,
             "#9c179e"
            ],
            [
             0.4444444444444444,
             "#bd3786"
            ],
            [
             0.5555555555555556,
             "#d8576b"
            ],
            [
             0.6666666666666666,
             "#ed7953"
            ],
            [
             0.7777777777777778,
             "#fb9f3a"
            ],
            [
             0.8888888888888888,
             "#fdca26"
            ],
            [
             1,
             "#f0f921"
            ]
           ]
          },
          "colorway": [
           "#636efa",
           "#EF553B",
           "#00cc96",
           "#ab63fa",
           "#FFA15A",
           "#19d3f3",
           "#FF6692",
           "#B6E880",
           "#FF97FF",
           "#FECB52"
          ],
          "font": {
           "color": "#2a3f5f"
          },
          "geo": {
           "bgcolor": "white",
           "lakecolor": "white",
           "landcolor": "#E5ECF6",
           "showlakes": true,
           "showland": true,
           "subunitcolor": "white"
          },
          "hoverlabel": {
           "align": "left"
          },
          "hovermode": "closest",
          "mapbox": {
           "style": "light"
          },
          "paper_bgcolor": "white",
          "plot_bgcolor": "#E5ECF6",
          "polar": {
           "angularaxis": {
            "gridcolor": "white",
            "linecolor": "white",
            "ticks": ""
           },
           "bgcolor": "#E5ECF6",
           "radialaxis": {
            "gridcolor": "white",
            "linecolor": "white",
            "ticks": ""
           }
          },
          "scene": {
           "xaxis": {
            "backgroundcolor": "#E5ECF6",
            "gridcolor": "white",
            "gridwidth": 2,
            "linecolor": "white",
            "showbackground": true,
            "ticks": "",
            "zerolinecolor": "white"
           },
           "yaxis": {
            "backgroundcolor": "#E5ECF6",
            "gridcolor": "white",
            "gridwidth": 2,
            "linecolor": "white",
            "showbackground": true,
            "ticks": "",
            "zerolinecolor": "white"
           },
           "zaxis": {
            "backgroundcolor": "#E5ECF6",
            "gridcolor": "white",
            "gridwidth": 2,
            "linecolor": "white",
            "showbackground": true,
            "ticks": "",
            "zerolinecolor": "white"
           }
          },
          "shapedefaults": {
           "line": {
            "color": "#2a3f5f"
           }
          },
          "ternary": {
           "aaxis": {
            "gridcolor": "white",
            "linecolor": "white",
            "ticks": ""
           },
           "baxis": {
            "gridcolor": "white",
            "linecolor": "white",
            "ticks": ""
           },
           "bgcolor": "#E5ECF6",
           "caxis": {
            "gridcolor": "white",
            "linecolor": "white",
            "ticks": ""
           }
          },
          "title": {
           "x": 0.05
          },
          "xaxis": {
           "automargin": true,
           "gridcolor": "white",
           "linecolor": "white",
           "ticks": "",
           "title": {
            "standoff": 15
           },
           "zerolinecolor": "white",
           "zerolinewidth": 2
          },
          "yaxis": {
           "automargin": true,
           "gridcolor": "white",
           "linecolor": "white",
           "ticks": "",
           "title": {
            "standoff": 15
           },
           "zerolinecolor": "white",
           "zerolinewidth": 2
          }
         }
        },
        "title": {
         "text": "Euclidean - Both axes inverted"
        },
        "width": 1000,
        "xaxis": {
         "anchor": "y",
         "autorange": true,
         "domain": [
          0,
          1
         ],
         "range": [
          -11.275296731070048,
          -6.662429289742939
         ],
         "title": {
          "text": "dim0"
         },
         "type": "linear"
        },
        "yaxis": {
         "anchor": "x",
         "autorange": true,
         "domain": [
          0,
          1
         ],
         "range": [
          -12.775473601456698,
          -6.480095856551115
         ],
         "title": {
          "text": "dim1"
         },
         "type": "linear"
        }
       }
      },
      "image/png": "[encoded data removed]",
      "text/html": [
       "<div>                            <div id=\"ceccb015-2286-4dce-bbdc-9e5c834d9ebc\" class=\"plotly-graph-div\" style=\"height:700px; width:1000px;\"></div>            <script type=\"text/javascript\">                require([\"plotly\"], function(Plotly) {                    window.PLOTLYENV=window.PLOTLYENV || {};                                    if (document.getElementById(\"ceccb015-2286-4dce-bbdc-9e5c834d9ebc\")) {                    Plotly.newPlot(                        \"ceccb015-2286-4dce-bbdc-9e5c834d9ebc\",                        [{\"customdata\": [[\"Machine Learning\", \"Association for the Advancement of Artificial Intelligence\"], [\"Machine Learning\", \"International Conference on Machine Learning\"], [\"Machine Learning\", \"International Joint Conference on Artificial Intelligence\"], [\"Machine Learning\", \"Special Interest Group in Knowledge Discovery and Data Mining\"], [\"Machine Learning\", \"Neural Information Processing Systems\"], [\"Machine Learning\", \"Special Interest Group on Information Retrieval\"]], \"hovertemplate\": \"<b>%{hovertext}</b><br><br>group=%{customdata[0]}<br>name=%{text}<br>full_name=%{customdata[1]}<extra></extra>\", \"hovertext\": [\"aaai\", \"icml\", \"ijcai\", \"kdd\", \"nips\", \"sigir\"], \"legendgroup\": \"Machine Learning\", \"marker\": {\"color\": \"#636efa\", \"size\": 10, \"symbol\": \"circle\"}, \"mode\": \"markers+text\", \"name\": \"Machine Learning\", \"orientation\": \"v\", \"showlegend\": true, \"text\": [\"aaai\", \"icml\", \"ijcai\", \"kdd\", \"nips\", \"sigir\"], \"type\": \"scatter\", \"x\": [-8.954367637634277, -9.468535423278809, -9.303055763244629, -8.975172996520996, -9.2799711227417, -8.544034957885742], \"xaxis\": \"x\", \"y\": [-7.187094211578369, -7.426512241363525, -7.08644437789917, -7.515634059906006, -6.9809160232543945, -7.695535182952881], \"yaxis\": \"y\"}, {\"customdata\": [[\"Natural Language Processing\", \"Association for Computational Linguistics\"], [\"Natural Language Processing\", \"Empirical Methods in Natural Language Processing\"], [\"Natural Language Processing\", \"North American Chapter of the Association for Computational Linguistics\"]], \"hovertemplate\": \"<b>%{hovertext}</b><br><br>group=%{customdata[0]}<br>name=%{text}<br>full_name=%{customdata[1]}<extra></extra>\", \"hovertext\": [\"acl\", \"emnlp\", \"naacl\"], \"legendgroup\": \"Natural Language Processing\", \"marker\": {\"color\": \"#EF553B\", \"size\": 10, \"symbol\": \"diamond\"}, \"mode\": \"markers+text\", \"name\": \"Natural Language Processing\", \"orientation\": \"v\", \"showlegend\": true, \"text\": [\"acl\", \"emnlp\", \"naacl\"], \"type\": \"scatter\", \"x\": [-8.610108375549316, -8.704313278198242, -8.817193984985352], \"xaxis\": \"x\", \"y\": [-7.980712413787842, -7.482378005981445, -8.118244171142578], \"yaxis\": \"y\"}, {\"customdata\": [[\"Systems\", \"International Conference on Architectural Support for Programming Languages and Operating Systems\"], [\"Systems\", \"European Conference on Computer Systems\"], [\"Systems\", \"Symposium on Operating Systems Design and Implementation\"], [\"Systems\", \"Symposium on Operating Systems Principles\"], [\"Systems\", \"Unix Users Group\"]], \"hovertemplate\": \"<b>%{hovertext}</b><br><br>group=%{customdata[0]}<br>name=%{text}<br>full_name=%{customdata[1]}<extra></extra>\", \"hovertext\": [\"asplos\", \"eurosys\", \"osdi\", \"sosp\", \"usenix\"], \"legendgroup\": \"Systems\", \"marker\": {\"color\": \"#00cc96\", \"size\": 10, \"symbol\": \"square\"}, \"mode\": \"markers+text\", \"name\": \"Systems\", \"orientation\": \"v\", \"showlegend\": true, \"text\": [\"asplos\", \"eurosys\", \"osdi\", \"sosp\", \"usenix\"], \"type\": \"scatter\", \"x\": [-8.09270191192627, -7.429092884063721, -7.807078838348389, -7.58575439453125, -7.677968502044678], \"xaxis\": \"x\", \"y\": [-12.176833152770996, -11.14893913269043, -11.06000804901123, -10.72726058959961, -11.034886360168457], \"yaxis\": \"y\"}, {\"customdata\": [[\"Programming Languages\", \"International Conference on Computer-Aided Verification\"], [\"Programming Languages\", \"International Conference on Functional Programming\"], [\"Programming Languages\", \"Symposium on Logic in Computer Science\"], [\"Programming Languages\", \"Conference on Object-Oriented Programming Systems, Languages, and Applications\"], [\"Programming Languages\", \"Conference on Programming Language Design and Implementation\"], [\"Programming Languages\", \"Symposium on Principles of Programming Languages\"]], \"hovertemplate\": \"<b>%{hovertext}</b><br><br>group=%{customdata[0]}<br>name=%{text}<br>full_name=%{customdata[1]}<extra></extra>\", \"hovertext\": [\"cav\", \"icfp\", \"lics\", \"oopsla\", \"pldi\", \"popl\"], \"legendgroup\": \"Programming Languages\", \"marker\": {\"color\": \"#ab63fa\", \"size\": 10, \"symbol\": \"x\"}, \"mode\": \"markers+text\", \"name\": \"Programming Languages\", \"orientation\": \"v\", \"showlegend\": true, \"text\": [\"cav\", \"icfp\", \"lics\", \"oopsla\", \"pldi\", \"popl\"], \"type\": \"scatter\", \"x\": [-10.625945091247559, -10.520125389099121, -10.351118087768555, -11.001750946044922, -10.832358360290527, -10.891610145568848], \"xaxis\": \"x\", \"y\": [-10.788399696350098, -10.510762214660645, -10.275653839111328, -11.025014877319336, -10.68956184387207, -10.833773612976074], \"yaxis\": \"y\"}, {\"customdata\": [[\"Security\", \"Conference on Computer and Communications Security\"], [\"Security\", \"Network and Distributed System Security Symposium\"], [\"Security\", \"Symposium on Security and Privacy\"], [\"Security\", \"USENIX Security Symposia\"]], \"hovertemplate\": \"<b>%{hovertext}</b><br><br>group=%{customdata[0]}<br>name=%{text}<br>full_name=%{customdata[1]}<extra></extra>\", \"hovertext\": [\"ccs\", \"ndss\", \"sp\", \"uss\"], \"legendgroup\": \"Security\", \"marker\": {\"color\": \"#FFA15A\", \"size\": 10, \"symbol\": \"cross\"}, \"mode\": \"markers+text\", \"name\": \"Security\", \"orientation\": \"v\", \"showlegend\": true, \"text\": [\"ccs\", \"ndss\", \"sp\", \"uss\"], \"type\": \"scatter\", \"x\": [-6.935975074768066, -7.358266830444336, -7.211978912353516, -7.155172348022461], \"xaxis\": \"x\", \"y\": [-10.054014205932617, -10.013031959533691, -9.792267799377441, -10.238226890563965], \"yaxis\": \"y\"}, {\"customdata\": [[\"Human Computer Interaction\", \"Conference on Human Factors in Computing Systems\"], [\"Human Computer Interaction\", \"International Symposium on Handheld and Ubiquitous Computing\"], [\"Human Computer Interaction\", \"International Conference on Pervasive Computing and Communications\"], [\"Human Computer Interaction\", \"Symposium on User Interface Software and Technology\"]], \"hovertemplate\": \"<b>%{hovertext}</b><br><br>group=%{customdata[0]}<br>name=%{text}<br>full_name=%{customdata[1]}<extra></extra>\", \"hovertext\": [\"chi\", \"huc\", \"pervasive\", \"uist\"], \"legendgroup\": \"Human Computer Interaction\", \"marker\": {\"color\": \"#19d3f3\", \"size\": 10, \"symbol\": \"circle\"}, \"mode\": \"markers+text\", \"name\": \"Human Computer Interaction\", \"orientation\": \"v\", \"showlegend\": true, \"text\": [\"chi\", \"huc\", \"pervasive\", \"uist\"], \"type\": \"scatter\", \"x\": [-9.15072250366211, -8.915658950805664, -9.319060325622559, -8.826489448547363], \"xaxis\": \"x\", \"y\": [-10.012192726135254, -9.793310165405273, -9.96796989440918, -9.571235656738281], \"yaxis\": \"y\"}, {\"customdata\": [[\"Cryptography\", \"International Cryptology Conference\"], [\"Cryptography\", \"Conference on the Theory and Applications of Cryptographic Techniques\"]], \"hovertemplate\": \"<b>%{hovertext}</b><br><br>group=%{customdata[0]}<br>name=%{text}<br>full_name=%{customdata[1]}<extra></extra>\", \"hovertext\": [\"crypto\", \"eurocrypt\"], \"legendgroup\": \"Cryptography\", \"marker\": {\"color\": \"#FF6692\", \"size\": 10, \"symbol\": \"diamond\"}, \"mode\": \"markers+text\", \"name\": \"Cryptography\", \"orientation\": \"v\", \"showlegend\": true, \"text\": [\"crypto\", \"eurocrypt\"], \"type\": \"scatter\", \"x\": [-7.665451526641846, -7.19118595123291], \"xaxis\": \"x\", \"y\": [-9.74897575378418, -9.464332580566406], \"yaxis\": \"y\"}, {\"customdata\": [[\"Computer Vision\", \"Computer Vision and Pattern Recognition\"], [\"Computer Vision\", \"European Conference for Computer Vision\"], [\"Computer Vision\", \"International Conference on Conputer Vision\"]], \"hovertemplate\": \"<b>%{hovertext}</b><br><br>group=%{customdata[0]}<br>name=%{text}<br>full_name=%{customdata[1]}<extra></extra>\", \"hovertext\": [\"cvpr\", \"eccv\", \"iccv\"], \"legendgroup\": \"Computer Vision\", \"marker\": {\"color\": \"#B6E880\", \"size\": 10, \"symbol\": \"square\"}, \"mode\": \"markers+text\", \"name\": \"Computer Vision\", \"orientation\": \"v\", \"showlegend\": true, \"text\": [\"cvpr\", \"eccv\", \"iccv\"], \"type\": \"scatter\", \"x\": [-9.44993782043457, -9.897970199584961, -9.596378326416016], \"xaxis\": \"x\", \"y\": [-6.86512565612793, -7.268154621124268, -7.0262627601623535], \"yaxis\": \"y\"}, {\"customdata\": [[\"Embedded Systems\", \"Design Automation Conference\"], [\"Embedded Systems\", \"International Conference on Embedded Software\"], [\"Embedded Systems\", \"Real-time and Embedded Technology and Applications Symposium\"], [\"Embedded Systems\", \"Real-Time Systems Symposium\"]], \"hovertemplate\": \"<b>%{hovertext}</b><br><br>group=%{customdata[0]}<br>name=%{text}<br>full_name=%{customdata[1]}<extra></extra>\", \"hovertext\": [\"dac\", \"emsoft\", \"rtas\", \"rtss\"], \"legendgroup\": \"Embedded Systems\", \"marker\": {\"color\": \"#FF97FF\", \"size\": 10, \"symbol\": \"x\"}, \"mode\": \"markers+text\", \"name\": \"Embedded Systems\", \"orientation\": \"v\", \"showlegend\": true, \"text\": [\"dac\", \"emsoft\", \"rtas\", \"rtss\"], \"type\": \"scatter\", \"x\": [-7.686625003814697, -9.5663423538208, -9.430148124694824, -9.12791633605957], \"xaxis\": \"x\", \"y\": [-11.995477676391602, -10.753281593322754, -10.624616622924805, -10.881552696228027], \"yaxis\": \"y\"}, {\"customdata\": [[\"Databases\", \"Conference on File and Storage Technologies\"], [\"Databases\", \"International Conference on Data Engineering\"], [\"Databases\", \"Symposium on Principles of Database Systems\"], [\"Databases\", \"Special Interest Group on Management of Data\"]], \"hovertemplate\": \"<b>%{hovertext}</b><br><br>group=%{customdata[0]}<br>name=%{text}<br>full_name=%{customdata[1]}<extra></extra>\", \"hovertext\": [\"fast\", \"icde\", \"pods\", \"sigmod\"], \"legendgroup\": \"Databases\", \"marker\": {\"color\": \"#FECB52\", \"size\": 10, \"symbol\": \"cross\"}, \"mode\": \"markers+text\", \"name\": \"Databases\", \"orientation\": \"v\", \"showlegend\": true, \"text\": [\"fast\", \"icde\", \"pods\", \"sigmod\"], \"type\": \"scatter\", \"x\": [-8.40671157836914, -9.150668144226074, -9.821292877197266, -8.45771598815918], \"xaxis\": \"x\", \"y\": [-11.248515129089355, -7.9319305419921875, -9.502217292785645, -7.815402507781982], \"yaxis\": \"y\"}, {\"customdata\": [[\"Algorithms\", \"Symposium on Foundations of Computer Science\"], [\"Algorithms\", \"Symposium on Discrete Algorithms\"], [\"Algorithms\", \"Symposium on Theory of Computing\"]], \"hovertemplate\": \"<b>%{hovertext}</b><br><br>group=%{customdata[0]}<br>name=%{text}<br>full_name=%{customdata[1]}<extra></extra>\", \"hovertext\": [\"focs\", \"soda\", \"stoc\"], \"legendgroup\": \"Algorithms\", \"marker\": {\"color\": \"#636efa\", \"size\": 10, \"symbol\": \"circle\"}, \"mode\": \"markers+text\", \"name\": \"Algorithms\", \"orientation\": \"v\", \"showlegend\": true, \"text\": [\"focs\", \"soda\", \"stoc\"], \"type\": \"scatter\", \"x\": [-10.612686157226562, -10.496174812316895, -10.320249557495117], \"xaxis\": \"x\", \"y\": [-9.355815887451172, -9.377803802490234, -9.384035110473633], \"yaxis\": \"y\"}, {\"customdata\": [[\"High Performance Computing\", \"International Symposium on High-Performance Computer Architecture\"], [\"High Performance Computing\", \"Symposium on High-Performance Parallel and Distributed Computing\"], [\"High Performance Computing\", \"International Conference on Supercomputing\"], [\"High Performance Computing\", \"Supercomputing Conference\"]], \"hovertemplate\": \"<b>%{hovertext}</b><br><br>group=%{customdata[0]}<br>name=%{text}<br>full_name=%{customdata[1]}<extra></extra>\", \"hovertext\": [\"hpca\", \"hpdc\", \"ics\", \"sc\"], \"legendgroup\": \"High Performance Computing\", \"marker\": {\"color\": \"#EF553B\", \"size\": 10, \"symbol\": \"diamond\"}, \"mode\": \"markers+text\", \"name\": \"High Performance Computing\", \"orientation\": \"v\", \"showlegend\": true, \"text\": [\"hpca\", \"hpdc\", \"ics\", \"sc\"], \"type\": \"scatter\", \"x\": [-7.7462663650512695, -7.968120098114014, -8.238289833068848, -8.280961036682129], \"xaxis\": \"x\", \"y\": [-12.390443801879883, -11.590015411376953, -11.967575073242188, -11.865742683410645], \"yaxis\": \"y\"}, {\"customdata\": [[\"Other\", \"International Conference On Computer Aided Design\"], [\"Other\", \"International Conference on Research in Computational Molecular Biology\"], [\"Other\", \"Special Interest Group on Economics and Computation\"], [\"Other\", \"Special Interest Group on Measurement and Evaluation\"], [\"Other\", \"Virtual Reality Conference\"], [\"Other\", \"Conference on Web and Internet Economics\"]], \"hovertemplate\": \"<b>%{hovertext}</b><br><br>group=%{customdata[0]}<br>name=%{text}<br>full_name=%{customdata[1]}<extra></extra>\", \"hovertext\": [\"iccad\", \"recomb\", \"sigecom\", \"sigmetrics\", \"vr\", \"wine\"], \"legendgroup\": \"Other\", \"marker\": {\"color\": \"#00cc96\", \"size\": 10, \"symbol\": \"square\"}, \"mode\": \"markers+text\", \"name\": \"Other\", \"orientation\": \"v\", \"showlegend\": true, \"text\": [\"iccad\", \"recomb\", \"sigecom\", \"sigmetrics\", \"vr\", \"wine\"], \"type\": \"scatter\", \"x\": [-8.736488342285156, -9.701024055480957, -10.33478832244873, -8.43124771118164, -9.417572975158691, -10.28603458404541], \"xaxis\": \"x\", \"y\": [-11.574817657470703, -10.106581687927246, -9.19365119934082, -10.982667922973633, -9.576586723327637, -9.524604797363281], \"yaxis\": \"y\"}, {\"customdata\": [[\"Robotics\", \"International Conference on Robotics and Automation\"], [\"Robotics\", \"International Conference on Intelligent Robots and Systems\"], [\"Robotics\", \"Robotics: Science and Systems\"]], \"hovertemplate\": \"<b>%{hovertext}</b><br><br>group=%{customdata[0]}<br>name=%{text}<br>full_name=%{customdata[1]}<extra></extra>\", \"hovertext\": [\"icra\", \"iros\", \"rss\"], \"legendgroup\": \"Robotics\", \"marker\": {\"color\": \"#ab63fa\", \"size\": 10, \"symbol\": \"x\"}, \"mode\": \"markers+text\", \"name\": \"Robotics\", \"orientation\": \"v\", \"showlegend\": true, \"text\": [\"icra\", \"iros\", \"rss\"], \"type\": \"scatter\", \"x\": [-9.318039894104004, -8.956792831420898, -9.181293487548828], \"xaxis\": \"x\", \"y\": [-8.974316596984863, -8.990753173828125, -9.307544708251953], \"yaxis\": \"y\"}, {\"customdata\": [[\"Software Engineering\", \"International Conference on Software Engineering\"], [\"Software Engineering\", \"International Symposium on Software Testing and Analysis\"], [\"Software Engineering\", \"Knowledge-Based Software Engineering Conference\"], [\"Software Engineering\", \"Special Interest Group on Software Engineering\"]], \"hovertemplate\": \"<b>%{hovertext}</b><br><br>group=%{customdata[0]}<br>name=%{text}<br>full_name=%{customdata[1]}<extra></extra>\", \"hovertext\": [\"icse\", \"issta\", \"kbse\", \"sigsoft\"], \"legendgroup\": \"Software Engineering\", \"marker\": {\"color\": \"#FFA15A\", \"size\": 10, \"symbol\": \"cross\"}, \"mode\": \"markers+text\", \"name\": \"Software Engineering\", \"orientation\": \"v\", \"showlegend\": true, \"text\": [\"icse\", \"issta\", \"kbse\", \"sigsoft\"], \"type\": \"scatter\", \"x\": [-10.432726860046387, -10.754335403442383, -10.518556594848633, -10.609159469604492], \"xaxis\": \"x\", \"y\": [-11.020428657531738, -11.342293739318848, -11.459128379821777, -11.194144248962402], \"yaxis\": \"y\"}, {\"customdata\": [[\"Networks\", \"Internet Measurement Conference\"], [\"Networks\", \"Networked Systems Design and Implementation\"], [\"Networks\", \"Special Interest Group on Data Communications\"], [\"Networks\", \"World Wide Web Conference\"]], \"hovertemplate\": \"<b>%{hovertext}</b><br><br>group=%{customdata[0]}<br>name=%{text}<br>full_name=%{customdata[1]}<extra></extra>\", \"hovertext\": [\"imc\", \"nsdi\", \"sigcomm\", \"www\"], \"legendgroup\": \"Networks\", \"marker\": {\"color\": \"#19d3f3\", \"size\": 10, \"symbol\": \"circle\"}, \"mode\": \"markers+text\", \"name\": \"Networks\", \"orientation\": \"v\", \"showlegend\": true, \"text\": [\"imc\", \"nsdi\", \"sigcomm\", \"www\"], \"type\": \"scatter\", \"x\": [-7.878025054931641, -7.402878284454346, -7.908308029174805, -9.080449104309082], \"xaxis\": \"x\", \"y\": [-10.165687561035156, -10.663552284240723, -10.900362968444824, -7.807352066040039], \"yaxis\": \"y\"}, {\"customdata\": [[\"Computer Architecture\", \"International Symposium on Computer Architecture\"], [\"Computer Architecture\", \"International Symposium on Microarchitecture\"]], \"hovertemplate\": \"<b>%{hovertext}</b><br><br>group=%{customdata[0]}<br>name=%{text}<br>full_name=%{customdata[1]}<extra></extra>\", \"hovertext\": [\"isca\", \"micro\"], \"legendgroup\": \"Computer Architecture\", \"marker\": {\"color\": \"#FF6692\", \"size\": 10, \"symbol\": \"diamond\"}, \"mode\": \"markers+text\", \"name\": \"Computer Architecture\", \"orientation\": \"v\", \"showlegend\": true, \"text\": [\"isca\", \"micro\"], \"type\": \"scatter\", \"x\": [-8.214176177978516, -7.953947067260742], \"xaxis\": \"x\", \"y\": [-12.368947982788086, -12.03573989868164], \"yaxis\": \"y\"}, {\"customdata\": [[\"Mobile Computing\", \"International Conference on Mobile Computing\"], [\"Mobile Computing\", \"International Conference on Mobile Systems\"], [\"Mobile Computing\", \"Conference on Embedded Networked Sensor Systems\"]], \"hovertemplate\": \"<b>%{hovertext}</b><br><br>group=%{customdata[0]}<br>name=%{text}<br>full_name=%{customdata[1]}<extra></extra>\", \"hovertext\": [\"mobicom\", \"mobisys\", \"sensys\"], \"legendgroup\": \"Mobile Computing\", \"marker\": {\"color\": \"#B6E880\", \"size\": 10, \"symbol\": \"square\"}, \"mode\": \"markers+text\", \"name\": \"Mobile Computing\", \"orientation\": \"v\", \"showlegend\": true, \"text\": [\"mobicom\", \"mobisys\", \"sensys\"], \"type\": \"scatter\", \"x\": [-8.383746147155762, -8.616876602172852, -8.803839683532715], \"xaxis\": \"x\", \"y\": [-10.309014320373535, -10.46721363067627, -10.298100471496582], \"yaxis\": \"y\"}],                        {\"height\": 700, \"legend\": {\"title\": {\"text\": \"group\"}, \"tracegroupgap\": 0}, \"margin\": {\"t\": 60}, \"template\": {\"data\": {\"bar\": [{\"error_x\": {\"color\": \"#2a3f5f\"}, \"error_y\": {\"color\": \"#2a3f5f\"}, \"marker\": {\"line\": {\"color\": \"#E5ECF6\", \"width\": 0.5}}, \"type\": \"bar\"}], \"barpolar\": [{\"marker\": {\"line\": {\"color\": \"#E5ECF6\", \"width\": 0.5}}, \"type\": \"barpolar\"}], \"carpet\": [{\"aaxis\": {\"endlinecolor\": \"#2a3f5f\", \"gridcolor\": \"white\", \"linecolor\": \"white\", \"minorgridcolor\": \"white\", \"startlinecolor\": \"#2a3f5f\"}, \"baxis\": {\"endlinecolor\": \"#2a3f5f\", \"gridcolor\": \"white\", \"linecolor\": \"white\", \"minorgridcolor\": \"white\", \"startlinecolor\": \"#2a3f5f\"}, \"type\": \"carpet\"}], \"choropleth\": [{\"colorbar\": {\"outlinewidth\": 0, \"ticks\": \"\"}, \"type\": \"choropleth\"}], \"contour\": [{\"colorbar\": {\"outlinewidth\": 0, \"ticks\": \"\"}, \"colorscale\": [[0.0, \"#0d0887\"], [0.1111111111111111, \"#46039f\"], [0.2222222222222222, \"#7201a8\"], [0.3333333333333333, \"#9c179e\"], [0.4444444444444444, \"#bd3786\"], [0.5555555555555556, \"#d8576b\"], [0.6666666666666666, \"#ed7953\"], [0.7777777777777778, \"#fb9f3a\"], [0.8888888888888888, \"#fdca26\"], [1.0, \"#f0f921\"]], \"type\": \"contour\"}], \"contourcarpet\": [{\"colorbar\": {\"outlinewidth\": 0, \"ticks\": \"\"}, \"type\": \"contourcarpet\"}], \"heatmap\": [{\"colorbar\": {\"outlinewidth\": 0, \"ticks\": \"\"}, \"colorscale\": [[0.0, \"#0d0887\"], [0.1111111111111111, \"#46039f\"], [0.2222222222222222, \"#7201a8\"], [0.3333333333333333, \"#9c179e\"], [0.4444444444444444, \"#bd3786\"], [0.5555555555555556, \"#d8576b\"], [0.6666666666666666, \"#ed7953\"], [0.7777777777777778, \"#fb9f3a\"], [0.8888888888888888, \"#fdca26\"], [1.0, \"#f0f921\"]], \"type\": \"heatmap\"}], \"heatmapgl\": [{\"colorbar\": {\"outlinewidth\": 0, \"ticks\": \"\"}, \"colorscale\": [[0.0, \"#0d0887\"], [0.1111111111111111, \"#46039f\"], [0.2222222222222222, \"#7201a8\"], [0.3333333333333333, \"#9c179e\"], [0.4444444444444444, \"#bd3786\"], [0.5555555555555556, \"#d8576b\"], [0.6666666666666666, \"#ed7953\"], [0.7777777777777778, \"#fb9f3a\"], [0.8888888888888888, \"#fdca26\"], [1.0, \"#f0f921\"]], \"type\": \"heatmapgl\"}], \"histogram\": [{\"marker\": {\"colorbar\": {\"outlinewidth\": 0, \"ticks\": \"\"}}, \"type\": \"histogram\"}], \"histogram2d\": [{\"colorbar\": {\"outlinewidth\": 0, \"ticks\": \"\"}, \"colorscale\": [[0.0, \"#0d0887\"], [0.1111111111111111, \"#46039f\"], [0.2222222222222222, \"#7201a8\"], [0.3333333333333333, \"#9c179e\"], [0.4444444444444444, \"#bd3786\"], [0.5555555555555556, \"#d8576b\"], [0.6666666666666666, \"#ed7953\"], [0.7777777777777778, \"#fb9f3a\"], [0.8888888888888888, \"#fdca26\"], [1.0, \"#f0f921\"]], \"type\": \"histogram2d\"}], \"histogram2dcontour\": [{\"colorbar\": {\"outlinewidth\": 0, \"ticks\": \"\"}, \"colorscale\": [[0.0, \"#0d0887\"], [0.1111111111111111, \"#46039f\"], [0.2222222222222222, \"#7201a8\"], [0.3333333333333333, \"#9c179e\"], [0.4444444444444444, \"#bd3786\"], [0.5555555555555556, \"#d8576b\"], [0.6666666666666666, \"#ed7953\"], [0.7777777777777778, \"#fb9f3a\"], [0.8888888888888888, \"#fdca26\"], [1.0, \"#f0f921\"]], \"type\": \"histogram2dcontour\"}], \"mesh3d\": [{\"colorbar\": {\"outlinewidth\": 0, \"ticks\": \"\"}, \"type\": \"mesh3d\"}], \"parcoords\": [{\"line\": {\"colorbar\": {\"outlinewidth\": 0, \"ticks\": \"\"}}, \"type\": \"parcoords\"}], \"pie\": [{\"automargin\": true, \"type\": \"pie\"}], \"scatter\": [{\"marker\": {\"colorbar\": {\"outlinewidth\": 0, \"ticks\": \"\"}}, \"type\": \"scatter\"}], \"scatter3d\": [{\"line\": {\"colorbar\": {\"outlinewidth\": 0, \"ticks\": \"\"}}, \"marker\": {\"colorbar\": {\"outlinewidth\": 0, \"ticks\": \"\"}}, \"type\": \"scatter3d\"}], \"scattercarpet\": [{\"marker\": {\"colorbar\": {\"outlinewidth\": 0, \"ticks\": \"\"}}, \"type\": \"scattercarpet\"}], \"scattergeo\": [{\"marker\": {\"colorbar\": {\"outlinewidth\": 0, \"ticks\": \"\"}}, \"type\": \"scattergeo\"}], \"scattergl\": [{\"marker\": {\"colorbar\": {\"outlinewidth\": 0, \"ticks\": \"\"}}, \"type\": \"scattergl\"}], \"scattermapbox\": [{\"marker\": {\"colorbar\": {\"outlinewidth\": 0, \"ticks\": \"\"}}, \"type\": \"scattermapbox\"}], \"scatterpolar\": [{\"marker\": {\"colorbar\": {\"outlinewidth\": 0, \"ticks\": \"\"}}, \"type\": \"scatterpolar\"}], \"scatterpolargl\": [{\"marker\": {\"colorbar\": {\"outlinewidth\": 0, \"ticks\": \"\"}}, \"type\": \"scatterpolargl\"}], \"scatterternary\": [{\"marker\": {\"colorbar\": {\"outlinewidth\": 0, \"ticks\": \"\"}}, \"type\": \"scatterternary\"}], \"surface\": [{\"colorbar\": {\"outlinewidth\": 0, \"ticks\": \"\"}, \"colorscale\": [[0.0, \"#0d0887\"], [0.1111111111111111, \"#46039f\"], [0.2222222222222222, \"#7201a8\"], [0.3333333333333333, \"#9c179e\"], [0.4444444444444444, \"#bd3786\"], [0.5555555555555556, \"#d8576b\"], [0.6666666666666666, \"#ed7953\"], [0.7777777777777778, \"#fb9f3a\"], [0.8888888888888888, \"#fdca26\"], [1.0, \"#f0f921\"]], \"type\": \"surface\"}], \"table\": [{\"cells\": {\"fill\": {\"color\": \"#EBF0F8\"}, \"line\": {\"color\": \"white\"}}, \"header\": {\"fill\": {\"color\": \"#C8D4E3\"}, \"line\": {\"color\": \"white\"}}, \"type\": \"table\"}]}, \"layout\": {\"annotationdefaults\": {\"arrowcolor\": \"#2a3f5f\", \"arrowhead\": 0, \"arrowwidth\": 1}, \"autotypenumbers\": \"strict\", \"coloraxis\": {\"colorbar\": {\"outlinewidth\": 0, \"ticks\": \"\"}}, \"colorscale\": {\"diverging\": [[0, \"#8e0152\"], [0.1, \"#c51b7d\"], [0.2, \"#de77ae\"], [0.3, \"#f1b6da\"], [0.4, \"#fde0ef\"], [0.5, \"#f7f7f7\"], [0.6, \"#e6f5d0\"], [0.7, \"#b8e186\"], [0.8, \"#7fbc41\"], [0.9, \"#4d9221\"], [1, \"#276419\"]], \"sequential\": [[0.0, \"#0d0887\"], [0.1111111111111111, \"#46039f\"], [0.2222222222222222, \"#7201a8\"], [0.3333333333333333, \"#9c179e\"], [0.4444444444444444, \"#bd3786\"], [0.5555555555555556, \"#d8576b\"], [0.6666666666666666, \"#ed7953\"], [0.7777777777777778, \"#fb9f3a\"], [0.8888888888888888, \"#fdca26\"], [1.0, \"#f0f921\"]], \"sequentialminus\": [[0.0, \"#0d0887\"], [0.1111111111111111, \"#46039f\"], [0.2222222222222222, \"#7201a8\"], [0.3333333333333333, \"#9c179e\"], [0.4444444444444444, \"#bd3786\"], [0.5555555555555556, \"#d8576b\"], [0.6666666666666666, \"#ed7953\"], [0.7777777777777778, \"#fb9f3a\"], [0.8888888888888888, \"#fdca26\"], [1.0, \"#f0f921\"]]}, \"colorway\": [\"#636efa\", \"#EF553B\", \"#00cc96\", \"#ab63fa\", \"#FFA15A\", \"#19d3f3\", \"#FF6692\", \"#B6E880\", \"#FF97FF\", \"#FECB52\"], \"font\": {\"color\": \"#2a3f5f\"}, \"geo\": {\"bgcolor\": \"white\", \"lakecolor\": \"white\", \"landcolor\": \"#E5ECF6\", \"showlakes\": true, \"showland\": true, \"subunitcolor\": \"white\"}, \"hoverlabel\": {\"align\": \"left\"}, \"hovermode\": \"closest\", \"mapbox\": {\"style\": \"light\"}, \"paper_bgcolor\": \"white\", \"plot_bgcolor\": \"#E5ECF6\", \"polar\": {\"angularaxis\": {\"gridcolor\": \"white\", \"linecolor\": \"white\", \"ticks\": \"\"}, \"bgcolor\": \"#E5ECF6\", \"radialaxis\": {\"gridcolor\": \"white\", \"linecolor\": \"white\", \"ticks\": \"\"}}, \"scene\": {\"xaxis\": {\"backgroundcolor\": \"#E5ECF6\", \"gridcolor\": \"white\", \"gridwidth\": 2, \"linecolor\": \"white\", \"showbackground\": true, \"ticks\": \"\", \"zerolinecolor\": \"white\"}, \"yaxis\": {\"backgroundcolor\": \"#E5ECF6\", \"gridcolor\": \"white\", \"gridwidth\": 2, \"linecolor\": \"white\", \"showbackground\": true, \"ticks\": \"\", \"zerolinecolor\": \"white\"}, \"zaxis\": {\"backgroundcolor\": \"#E5ECF6\", \"gridcolor\": \"white\", \"gridwidth\": 2, \"linecolor\": \"white\", \"showbackground\": true, \"ticks\": \"\", \"zerolinecolor\": \"white\"}}, \"shapedefaults\": {\"line\": {\"color\": \"#2a3f5f\"}}, \"ternary\": {\"aaxis\": {\"gridcolor\": \"white\", \"linecolor\": \"white\", \"ticks\": \"\"}, \"baxis\": {\"gridcolor\": \"white\", \"linecolor\": \"white\", \"ticks\": \"\"}, \"bgcolor\": \"#E5ECF6\", \"caxis\": {\"gridcolor\": \"white\", \"linecolor\": \"white\", \"ticks\": \"\"}}, \"title\": {\"x\": 0.05}, \"xaxis\": {\"automargin\": true, \"gridcolor\": \"white\", \"linecolor\": \"white\", \"ticks\": \"\", \"title\": {\"standoff\": 15}, \"zerolinecolor\": \"white\", \"zerolinewidth\": 2}, \"yaxis\": {\"automargin\": true, \"gridcolor\": \"white\", \"linecolor\": \"white\", \"ticks\": \"\", \"title\": {\"standoff\": 15}, \"zerolinecolor\": \"white\", \"zerolinewidth\": 2}}}, \"title\": {\"text\": \"Euclidean - Both axes inverted\"}, \"width\": 1000, \"xaxis\": {\"anchor\": \"y\", \"domain\": [0.0, 1.0], \"title\": {\"text\": \"dim0\"}}, \"yaxis\": {\"anchor\": \"x\", \"domain\": [0.0, 1.0], \"title\": {\"text\": \"dim1\"}}},                        {\"responsive\": true}                    ).then(function(){\n",
       "                            \n",
       "var gd = document.getElementById('ceccb015-2286-4dce-bbdc-9e5c834d9ebc');\n",
       "var x = new MutationObserver(function (mutations, observer) {{\n",
       "        var display = window.getComputedStyle(gd).display;\n",
       "        if (!display || display === 'none') {{\n",
       "            console.log([gd, 'removed!']);\n",
       "            Plotly.purge(gd);\n",
       "            observer.disconnect();\n",
       "        }}\n",
       "}});\n",
       "\n",
       "// Listen for the removal of the full notebook cells\n",
       "var notebookContainer = gd.closest('#notebook-container');\n",
       "if (notebookContainer) {{\n",
       "    x.observe(notebookContainer, {childList: true});\n",
       "}}\n",
       "\n",
       "// Listen for the clearing of the current output cell\n",
       "var outputEl = gd.closest('.output');\n",
       "if (outputEl) {{\n",
       "    x.observe(outputEl, {childList: true});\n",
       "}}\n",
       "\n",
       "                        })                };                });            </script>        </div>"
      ]
     },
     "metadata": {},
     "output_type": "display_data"
    }
   ],
   "source": [
    "%%time\n",
    "reducer = umap.UMAP(random_state=42)\n",
    "embedding = reducer.fit_transform(data.iloc[:,3:].values)\n",
    "\n",
    "embedding_df = pd.DataFrame(embedding, columns=['dim0','dim1'])\n",
    "embedding_df *= -1\n",
    "embedding_df[data.iloc[:,:3].columns] = data.iloc[:,:3]\n",
    "embedding_df\n",
    "\n",
    "fig = px.scatter(data_frame=embedding_df, \n",
    "                 x='dim0', y='dim1', color='group', symbol='group', text='name', \n",
    "                 hover_name='name', hover_data={'group':True, 'full_name':True, 'dim0':False, 'dim1':False})\n",
    "for trace in fig.data:\n",
    "    trace.marker.size = 10\n",
    "fig.layout.height = 700\n",
    "fig.layout.width = 1000\n",
    "fig.layout.title = 'Euclidean - Both axes inverted'\n",
    "fig"
   ]
  },
  {
   "cell_type": "code",
   "execution_count": 94,
   "id": "animal-falls",
   "metadata": {},
   "outputs": [],
   "source": [
    "fig.write_image(\"Euclidean - Flipped.png\")"
   ]
  },
  {
   "cell_type": "code",
   "execution_count": 89,
   "id": "twelve-nevada",
   "metadata": {},
   "outputs": [
    {
     "name": "stdout",
     "output_type": "stream",
     "text": [
      "Wall time: 1.06 s\n"
     ]
    },
    {
     "data": {
      "application/vnd.plotly.v1+json": {
       "config": {
        "plotlyServerURL": "https://plot.ly"
       },
       "data": [
        {
         "customdata": [
          [
           "Machine Learning",
           "Association for the Advancement of Artificial Intelligence"
          ],
          [
           "Machine Learning",
           "International Conference on Machine Learning"
          ],
          [
           "Machine Learning",
           "International Joint Conference on Artificial Intelligence"
          ],
          [
           "Machine Learning",
           "Special Interest Group in Knowledge Discovery and Data Mining"
          ],
          [
           "Machine Learning",
           "Neural Information Processing Systems"
          ],
          [
           "Machine Learning",
           "Special Interest Group on Information Retrieval"
          ]
         ],
         "hovertemplate": "<b>%{hovertext}</b><br><br>group=%{customdata[0]}<br>name=%{text}<br>full_name=%{customdata[1]}<extra></extra>",
         "hovertext": [
          "aaai",
          "icml",
          "ijcai",
          "kdd",
          "nips",
          "sigir"
         ],
         "legendgroup": "Machine Learning",
         "marker": {
          "color": "#636efa",
          "size": 10,
          "symbol": "circle"
         },
         "mode": "markers+text",
         "name": "Machine Learning",
         "orientation": "v",
         "showlegend": true,
         "text": [
          "aaai",
          "icml",
          "ijcai",
          "kdd",
          "nips",
          "sigir"
         ],
         "type": "scatter",
         "x": [
          13.23847770690918,
          13.062862396240234,
          13.333284378051758,
          13.561771392822266,
          12.854575157165527,
          13.807387351989746
         ],
         "xaxis": "x",
         "y": [
          4.608943462371826,
          4.112806797027588,
          4.187192440032959,
          4.251373291015625,
          4.502476692199707,
          4.222987651824951
         ],
         "yaxis": "y"
        },
        {
         "customdata": [
          [
           "Natural Language Processing",
           "Association for Computational Linguistics"
          ],
          [
           "Natural Language Processing",
           "Empirical Methods in Natural Language Processing"
          ],
          [
           "Natural Language Processing",
           "North American Chapter of the Association for Computational Linguistics"
          ]
         ],
         "hovertemplate": "<b>%{hovertext}</b><br><br>group=%{customdata[0]}<br>name=%{text}<br>full_name=%{customdata[1]}<extra></extra>",
         "hovertext": [
          "acl",
          "emnlp",
          "naacl"
         ],
         "legendgroup": "Natural Language Processing",
         "marker": {
          "color": "#EF553B",
          "size": 10,
          "symbol": "diamond"
         },
         "mode": "markers+text",
         "name": "Natural Language Processing",
         "orientation": "v",
         "showlegend": true,
         "text": [
          "acl",
          "emnlp",
          "naacl"
         ],
         "type": "scatter",
         "x": [
          13.609323501586914,
          13.84958553314209,
          13.78170108795166
         ],
         "xaxis": "x",
         "y": [
          4.457421779632568,
          4.694553852081299,
          4.7541823387146
         ],
         "yaxis": "y"
        },
        {
         "customdata": [
          [
           "Systems",
           "International Conference on Architectural Support for Programming Languages and Operating Systems"
          ],
          [
           "Systems",
           "European Conference on Computer Systems"
          ],
          [
           "Systems",
           "Symposium on Operating Systems Design and Implementation"
          ],
          [
           "Systems",
           "Symposium on Operating Systems Principles"
          ],
          [
           "Systems",
           "Unix Users Group"
          ]
         ],
         "hovertemplate": "<b>%{hovertext}</b><br><br>group=%{customdata[0]}<br>name=%{text}<br>full_name=%{customdata[1]}<extra></extra>",
         "hovertext": [
          "asplos",
          "eurosys",
          "osdi",
          "sosp",
          "usenix"
         ],
         "legendgroup": "Systems",
         "marker": {
          "color": "#00cc96",
          "size": 10,
          "symbol": "square"
         },
         "mode": "markers+text",
         "name": "Systems",
         "orientation": "v",
         "showlegend": true,
         "text": [
          "asplos",
          "eurosys",
          "osdi",
          "sosp",
          "usenix"
         ],
         "type": "scatter",
         "x": [
          7.223482131958008,
          8.09257698059082,
          8.249763488769531,
          8.575850486755371,
          8.44030475616455
         ],
         "xaxis": "x",
         "y": [
          1.3497645854949951,
          2.1284759044647217,
          2.5930893421173096,
          2.359727144241333,
          2.383148193359375
         ],
         "yaxis": "y"
        },
        {
         "customdata": [
          [
           "Programming Languages",
           "International Conference on Computer-Aided Verification"
          ],
          [
           "Programming Languages",
           "International Conference on Functional Programming"
          ],
          [
           "Programming Languages",
           "Symposium on Logic in Computer Science"
          ],
          [
           "Programming Languages",
           "Conference on Object-Oriented Programming Systems, Languages, and Applications"
          ],
          [
           "Programming Languages",
           "Conference on Programming Language Design and Implementation"
          ],
          [
           "Programming Languages",
           "Symposium on Principles of Programming Languages"
          ]
         ],
         "hovertemplate": "<b>%{hovertext}</b><br><br>group=%{customdata[0]}<br>name=%{text}<br>full_name=%{customdata[1]}<extra></extra>",
         "hovertext": [
          "cav",
          "icfp",
          "lics",
          "oopsla",
          "pldi",
          "popl"
         ],
         "legendgroup": "Programming Languages",
         "marker": {
          "color": "#ab63fa",
          "size": 10,
          "symbol": "x"
         },
         "mode": "markers+text",
         "name": "Programming Languages",
         "orientation": "v",
         "showlegend": true,
         "text": [
          "cav",
          "icfp",
          "lics",
          "oopsla",
          "pldi",
          "popl"
         ],
         "type": "scatter",
         "visible": true,
         "x": [
          3.7542552947998047,
          3.3440325260162354,
          3.2283029556274414,
          3.514477014541626,
          3.3770861625671387,
          3.379014015197754
         ],
         "xaxis": "x",
         "y": [
          2.758046865463257,
          2.6374049186706543,
          2.9958596229553223,
          3.0956926345825195,
          2.856837511062622,
          3.194378614425659
         ],
         "yaxis": "y"
        },
        {
         "customdata": [
          [
           "Security",
           "Conference on Computer and Communications Security"
          ],
          [
           "Security",
           "Network and Distributed System Security Symposium"
          ],
          [
           "Security",
           "Symposium on Security and Privacy"
          ],
          [
           "Security",
           "USENIX Security Symposia"
          ]
         ],
         "hovertemplate": "<b>%{hovertext}</b><br><br>group=%{customdata[0]}<br>name=%{text}<br>full_name=%{customdata[1]}<extra></extra>",
         "hovertext": [
          "ccs",
          "ndss",
          "sp",
          "uss"
         ],
         "legendgroup": "Security",
         "marker": {
          "color": "#FFA15A",
          "size": 10,
          "symbol": "cross"
         },
         "mode": "markers+text",
         "name": "Security",
         "orientation": "v",
         "showlegend": true,
         "text": [
          "ccs",
          "ndss",
          "sp",
          "uss"
         ],
         "type": "scatter",
         "visible": true,
         "x": [
          9.674522399902344,
          9.656962394714355,
          9.640398979187012,
          9.420327186584473
         ],
         "xaxis": "x",
         "y": [
          2.118359088897705,
          1.8554155826568604,
          1.9622468948364258,
          1.8035024404525757
         ],
         "yaxis": "y"
        },
        {
         "customdata": [
          [
           "Human Computer Interaction",
           "Conference on Human Factors in Computing Systems"
          ],
          [
           "Human Computer Interaction",
           "International Symposium on Handheld and Ubiquitous Computing"
          ],
          [
           "Human Computer Interaction",
           "International Conference on Pervasive Computing and Communications"
          ],
          [
           "Human Computer Interaction",
           "Symposium on User Interface Software and Technology"
          ]
         ],
         "hovertemplate": "<b>%{hovertext}</b><br><br>group=%{customdata[0]}<br>name=%{text}<br>full_name=%{customdata[1]}<extra></extra>",
         "hovertext": [
          "chi",
          "huc",
          "pervasive",
          "uist"
         ],
         "legendgroup": "Human Computer Interaction",
         "marker": {
          "color": "#19d3f3",
          "size": 10,
          "symbol": "circle"
         },
         "mode": "markers+text",
         "name": "Human Computer Interaction",
         "orientation": "v",
         "showlegend": true,
         "text": [
          "chi",
          "huc",
          "pervasive",
          "uist"
         ],
         "type": "scatter",
         "x": [
          11.010531425476074,
          10.937381744384766,
          10.599686622619629,
          11.223401069641113
         ],
         "xaxis": "x",
         "y": [
          4.175011157989502,
          3.7228288650512695,
          3.757742404937744,
          3.8148951530456543
         ],
         "yaxis": "y"
        },
        {
         "customdata": [
          [
           "Cryptography",
           "International Cryptology Conference"
          ],
          [
           "Cryptography",
           "Conference on the Theory and Applications of Cryptographic Techniques"
          ]
         ],
         "hovertemplate": "<b>%{hovertext}</b><br><br>group=%{customdata[0]}<br>name=%{text}<br>full_name=%{customdata[1]}<extra></extra>",
         "hovertext": [
          "crypto",
          "eurocrypt"
         ],
         "legendgroup": "Cryptography",
         "marker": {
          "color": "#FF6692",
          "size": 10,
          "symbol": "diamond"
         },
         "mode": "markers+text",
         "name": "Cryptography",
         "orientation": "v",
         "showlegend": true,
         "text": [
          "crypto",
          "eurocrypt"
         ],
         "type": "scatter",
         "visible": true,
         "x": [
          10.141524314880371,
          9.995695114135742
         ],
         "xaxis": "x",
         "y": [
          1.9016978740692139,
          1.5236670970916748
         ],
         "yaxis": "y"
        },
        {
         "customdata": [
          [
           "Computer Vision",
           "Computer Vision and Pattern Recognition"
          ],
          [
           "Computer Vision",
           "European Conference for Computer Vision"
          ],
          [
           "Computer Vision",
           "International Conference on Conputer Vision"
          ]
         ],
         "hovertemplate": "<b>%{hovertext}</b><br><br>group=%{customdata[0]}<br>name=%{text}<br>full_name=%{customdata[1]}<extra></extra>",
         "hovertext": [
          "cvpr",
          "eccv",
          "iccv"
         ],
         "legendgroup": "Computer Vision",
         "marker": {
          "color": "#B6E880",
          "size": 10,
          "symbol": "square"
         },
         "mode": "markers+text",
         "name": "Computer Vision",
         "orientation": "v",
         "showlegend": true,
         "text": [
          "cvpr",
          "eccv",
          "iccv"
         ],
         "type": "scatter",
         "x": [
          12.911199569702148,
          13.001885414123535,
          12.890115737915039
         ],
         "xaxis": "x",
         "y": [
          4.835293769836426,
          5.125326156616211,
          5.175659656524658
         ],
         "yaxis": "y"
        },
        {
         "customdata": [
          [
           "Embedded Systems",
           "Design Automation Conference"
          ],
          [
           "Embedded Systems",
           "International Conference on Embedded Software"
          ],
          [
           "Embedded Systems",
           "Real-time and Embedded Technology and Applications Symposium"
          ],
          [
           "Embedded Systems",
           "Real-Time Systems Symposium"
          ]
         ],
         "hovertemplate": "<b>%{hovertext}</b><br><br>group=%{customdata[0]}<br>name=%{text}<br>full_name=%{customdata[1]}<extra></extra>",
         "hovertext": [
          "dac",
          "emsoft",
          "rtas",
          "rtss"
         ],
         "legendgroup": "Embedded Systems",
         "marker": {
          "color": "#FF97FF",
          "size": 10,
          "symbol": "x"
         },
         "mode": "markers+text",
         "name": "Embedded Systems",
         "orientation": "v",
         "showlegend": true,
         "text": [
          "dac",
          "emsoft",
          "rtas",
          "rtss"
         ],
         "type": "scatter",
         "x": [
          6.725076675415039,
          6.885135173797607,
          7.322359085083008,
          7.133998870849609
         ],
         "xaxis": "x",
         "y": [
          1.1301493644714355,
          2.1012444496154785,
          2.239706516265869,
          2.0926873683929443
         ],
         "yaxis": "y"
        },
        {
         "customdata": [
          [
           "Databases",
           "Conference on File and Storage Technologies"
          ],
          [
           "Databases",
           "International Conference on Data Engineering"
          ],
          [
           "Databases",
           "Symposium on Principles of Database Systems"
          ],
          [
           "Databases",
           "Special Interest Group on Management of Data"
          ]
         ],
         "hovertemplate": "<b>%{hovertext}</b><br><br>group=%{customdata[0]}<br>name=%{text}<br>full_name=%{customdata[1]}<extra></extra>",
         "hovertext": [
          "fast",
          "icde",
          "pods",
          "sigmod"
         ],
         "legendgroup": "Databases",
         "marker": {
          "color": "#FECB52",
          "size": 10,
          "symbol": "cross"
         },
         "mode": "markers+text",
         "name": "Databases",
         "orientation": "v",
         "showlegend": true,
         "text": [
          "fast",
          "icde",
          "pods",
          "sigmod"
         ],
         "type": "scatter",
         "x": [
          8.197147369384766,
          13.929606437683105,
          14.966776847839355,
          13.458266258239746
         ],
         "xaxis": "x",
         "y": [
          2.230228900909424,
          3.953451633453369,
          3.757366895675659,
          3.8470981121063232
         ],
         "yaxis": "y"
        },
        {
         "customdata": [
          [
           "Algorithms",
           "Symposium on Foundations of Computer Science"
          ],
          [
           "Algorithms",
           "Symposium on Discrete Algorithms"
          ],
          [
           "Algorithms",
           "Symposium on Theory of Computing"
          ]
         ],
         "hovertemplate": "<b>%{hovertext}</b><br><br>group=%{customdata[0]}<br>name=%{text}<br>full_name=%{customdata[1]}<extra></extra>",
         "hovertext": [
          "focs",
          "soda",
          "stoc"
         ],
         "legendgroup": "Algorithms",
         "marker": {
          "color": "#636efa",
          "size": 10,
          "symbol": "circle"
         },
         "mode": "markers+text",
         "name": "Algorithms",
         "orientation": "v",
         "showlegend": true,
         "text": [
          "focs",
          "soda",
          "stoc"
         ],
         "type": "scatter",
         "visible": true,
         "x": [
          15.36244010925293,
          15.57844352722168,
          15.020058631896973
         ],
         "xaxis": "x",
         "y": [
          3.677952527999878,
          3.5167346000671387,
          3.5611369609832764
         ],
         "yaxis": "y"
        },
        {
         "customdata": [
          [
           "High Performance Computing",
           "International Symposium on High-Performance Computer Architecture"
          ],
          [
           "High Performance Computing",
           "Symposium on High-Performance Parallel and Distributed Computing"
          ],
          [
           "High Performance Computing",
           "International Conference on Supercomputing"
          ],
          [
           "High Performance Computing",
           "Supercomputing Conference"
          ]
         ],
         "hovertemplate": "<b>%{hovertext}</b><br><br>group=%{customdata[0]}<br>name=%{text}<br>full_name=%{customdata[1]}<extra></extra>",
         "hovertext": [
          "hpca",
          "hpdc",
          "ics",
          "sc"
         ],
         "legendgroup": "High Performance Computing",
         "marker": {
          "color": "#EF553B",
          "size": 10,
          "symbol": "diamond"
         },
         "mode": "markers+text",
         "name": "High Performance Computing",
         "orientation": "v",
         "showlegend": true,
         "text": [
          "hpca",
          "hpdc",
          "ics",
          "sc"
         ],
         "type": "scatter",
         "visible": true,
         "x": [
          7.110466003417969,
          7.561252117156982,
          7.336055755615234,
          7.351202964782715
         ],
         "xaxis": "x",
         "y": [
          0.9874306917190552,
          1.1342511177062988,
          0.8204683661460876,
          0.9083911180496216
         ],
         "yaxis": "y"
        },
        {
         "customdata": [
          [
           "Other",
           "International Conference On Computer Aided Design"
          ],
          [
           "Other",
           "International Conference on Research in Computational Molecular Biology"
          ],
          [
           "Other",
           "Special Interest Group on Economics and Computation"
          ],
          [
           "Other",
           "Special Interest Group on Measurement and Evaluation"
          ],
          [
           "Other",
           "Virtual Reality Conference"
          ],
          [
           "Other",
           "Conference on Web and Internet Economics"
          ]
         ],
         "hovertemplate": "<b>%{hovertext}</b><br><br>group=%{customdata[0]}<br>name=%{text}<br>full_name=%{customdata[1]}<extra></extra>",
         "hovertext": [
          "iccad",
          "recomb",
          "sigecom",
          "sigmetrics",
          "vr",
          "wine"
         ],
         "legendgroup": "Other",
         "marker": {
          "color": "#00cc96",
          "size": 10,
          "symbol": "square"
         },
         "mode": "markers+text",
         "name": "Other",
         "orientation": "v",
         "showlegend": true,
         "text": [
          "iccad",
          "recomb",
          "sigecom",
          "sigmetrics",
          "vr",
          "wine"
         ],
         "type": "scatter",
         "visible": true,
         "x": [
          6.945235252380371,
          13.197412490844727,
          15.270787239074707,
          8.184554100036621,
          11.369097709655762,
          15.480537414550781
         ],
         "xaxis": "x",
         "y": [
          1.5227527618408203,
          3.771273374557495,
          3.7756099700927734,
          2.731358766555786,
          4.132081985473633,
          3.5007002353668213
         ],
         "yaxis": "y"
        },
        {
         "customdata": [
          [
           "Robotics",
           "International Conference on Robotics and Automation"
          ],
          [
           "Robotics",
           "International Conference on Intelligent Robots and Systems"
          ],
          [
           "Robotics",
           "Robotics: Science and Systems"
          ]
         ],
         "hovertemplate": "<b>%{hovertext}</b><br><br>group=%{customdata[0]}<br>name=%{text}<br>full_name=%{customdata[1]}<extra></extra>",
         "hovertext": [
          "icra",
          "iros",
          "rss"
         ],
         "legendgroup": "Robotics",
         "marker": {
          "color": "#ab63fa",
          "size": 10,
          "symbol": "x"
         },
         "mode": "markers+text",
         "name": "Robotics",
         "orientation": "v",
         "showlegend": true,
         "text": [
          "icra",
          "iros",
          "rss"
         ],
         "type": "scatter",
         "x": [
          12.296375274658203,
          12.494866371154785,
          12.398762702941895
         ],
         "xaxis": "x",
         "y": [
          4.725592136383057,
          4.90412712097168,
          5.075024127960205
         ],
         "yaxis": "y"
        },
        {
         "customdata": [
          [
           "Software Engineering",
           "International Conference on Software Engineering"
          ],
          [
           "Software Engineering",
           "International Symposium on Software Testing and Analysis"
          ],
          [
           "Software Engineering",
           "Knowledge-Based Software Engineering Conference"
          ],
          [
           "Software Engineering",
           "Special Interest Group on Software Engineering"
          ]
         ],
         "hovertemplate": "<b>%{hovertext}</b><br><br>group=%{customdata[0]}<br>name=%{text}<br>full_name=%{customdata[1]}<extra></extra>",
         "hovertext": [
          "icse",
          "issta",
          "kbse",
          "sigsoft"
         ],
         "legendgroup": "Software Engineering",
         "marker": {
          "color": "#FFA15A",
          "size": 10,
          "symbol": "cross"
         },
         "mode": "markers+text",
         "name": "Software Engineering",
         "orientation": "v",
         "showlegend": true,
         "text": [
          "icse",
          "issta",
          "kbse",
          "sigsoft"
         ],
         "type": "scatter",
         "visible": true,
         "x": [
          3.971190929412842,
          4.011970043182373,
          3.7536163330078125,
          3.644927978515625
         ],
         "xaxis": "x",
         "y": [
          3.187018871307373,
          3.1238491535186768,
          3.3476719856262207,
          3.4206230640411377
         ],
         "yaxis": "y"
        },
        {
         "customdata": [
          [
           "Networks",
           "Internet Measurement Conference"
          ],
          [
           "Networks",
           "Networked Systems Design and Implementation"
          ],
          [
           "Networks",
           "Special Interest Group on Data Communications"
          ],
          [
           "Networks",
           "World Wide Web Conference"
          ]
         ],
         "hovertemplate": "<b>%{hovertext}</b><br><br>group=%{customdata[0]}<br>name=%{text}<br>full_name=%{customdata[1]}<extra></extra>",
         "hovertext": [
          "imc",
          "nsdi",
          "sigcomm",
          "www"
         ],
         "legendgroup": "Networks",
         "marker": {
          "color": "#19d3f3",
          "size": 10,
          "symbol": "circle"
         },
         "mode": "markers+text",
         "name": "Networks",
         "orientation": "v",
         "showlegend": true,
         "text": [
          "imc",
          "nsdi",
          "sigcomm",
          "www"
         ],
         "type": "scatter",
         "visible": true,
         "x": [
          9.43881607055664,
          8.830607414245605,
          8.576783180236816,
          13.515816688537598
         ],
         "xaxis": "x",
         "y": [
          2.3788414001464844,
          2.4493584632873535,
          2.8676767349243164,
          3.796570062637329
         ],
         "yaxis": "y"
        },
        {
         "customdata": [
          [
           "Computer Architecture",
           "International Symposium on Computer Architecture"
          ],
          [
           "Computer Architecture",
           "International Symposium on Microarchitecture"
          ]
         ],
         "hovertemplate": "<b>%{hovertext}</b><br><br>group=%{customdata[0]}<br>name=%{text}<br>full_name=%{customdata[1]}<extra></extra>",
         "hovertext": [
          "isca",
          "micro"
         ],
         "legendgroup": "Computer Architecture",
         "marker": {
          "color": "#FF6692",
          "size": 10,
          "symbol": "diamond"
         },
         "mode": "markers+text",
         "name": "Computer Architecture",
         "orientation": "v",
         "showlegend": true,
         "text": [
          "isca",
          "micro"
         ],
         "type": "scatter",
         "visible": true,
         "x": [
          6.8694891929626465,
          6.943065643310547
         ],
         "xaxis": "x",
         "y": [
          0.9564247131347656,
          1.0852391719818115
         ],
         "yaxis": "y"
        },
        {
         "customdata": [
          [
           "Mobile Computing",
           "International Conference on Mobile Computing"
          ],
          [
           "Mobile Computing",
           "International Conference on Mobile Systems"
          ],
          [
           "Mobile Computing",
           "Conference on Embedded Networked Sensor Systems"
          ]
         ],
         "hovertemplate": "<b>%{hovertext}</b><br><br>group=%{customdata[0]}<br>name=%{text}<br>full_name=%{customdata[1]}<extra></extra>",
         "hovertext": [
          "mobicom",
          "mobisys",
          "sensys"
         ],
         "legendgroup": "Mobile Computing",
         "marker": {
          "color": "#B6E880",
          "size": 10,
          "symbol": "square"
         },
         "mode": "markers+text",
         "name": "Mobile Computing",
         "orientation": "v",
         "showlegend": true,
         "text": [
          "mobicom",
          "mobisys",
          "sensys"
         ],
         "type": "scatter",
         "x": [
          9.904021263122559,
          9.775846481323242,
          10.131232261657715
         ],
         "xaxis": "x",
         "y": [
          3.1679325103759766,
          3.358341932296753,
          3.5274550914764404
         ],
         "yaxis": "y"
        }
       ],
       "layout": {
        "height": 700,
        "legend": {
         "title": {
          "text": "group"
         },
         "tracegroupgap": 0
        },
        "margin": {
         "t": 60
        },
        "template": {
         "data": {
          "bar": [
           {
            "error_x": {
             "color": "#2a3f5f"
            },
            "error_y": {
             "color": "#2a3f5f"
            },
            "marker": {
             "line": {
              "color": "#E5ECF6",
              "width": 0.5
             }
            },
            "type": "bar"
           }
          ],
          "barpolar": [
           {
            "marker": {
             "line": {
              "color": "#E5ECF6",
              "width": 0.5
             }
            },
            "type": "barpolar"
           }
          ],
          "carpet": [
           {
            "aaxis": {
             "endlinecolor": "#2a3f5f",
             "gridcolor": "white",
             "linecolor": "white",
             "minorgridcolor": "white",
             "startlinecolor": "#2a3f5f"
            },
            "baxis": {
             "endlinecolor": "#2a3f5f",
             "gridcolor": "white",
             "linecolor": "white",
             "minorgridcolor": "white",
             "startlinecolor": "#2a3f5f"
            },
            "type": "carpet"
           }
          ],
          "choropleth": [
           {
            "colorbar": {
             "outlinewidth": 0,
             "ticks": ""
            },
            "type": "choropleth"
           }
          ],
          "contour": [
           {
            "colorbar": {
             "outlinewidth": 0,
             "ticks": ""
            },
            "colorscale": [
             [
              0,
              "#0d0887"
             ],
             [
              0.1111111111111111,
              "#46039f"
             ],
             [
              0.2222222222222222,
              "#7201a8"
             ],
             [
              0.3333333333333333,
              "#9c179e"
             ],
             [
              0.4444444444444444,
              "#bd3786"
             ],
             [
              0.5555555555555556,
              "#d8576b"
             ],
             [
              0.6666666666666666,
              "#ed7953"
             ],
             [
              0.7777777777777778,
              "#fb9f3a"
             ],
             [
              0.8888888888888888,
              "#fdca26"
             ],
             [
              1,
              "#f0f921"
             ]
            ],
            "type": "contour"
           }
          ],
          "contourcarpet": [
           {
            "colorbar": {
             "outlinewidth": 0,
             "ticks": ""
            },
            "type": "contourcarpet"
           }
          ],
          "heatmap": [
           {
            "colorbar": {
             "outlinewidth": 0,
             "ticks": ""
            },
            "colorscale": [
             [
              0,
              "#0d0887"
             ],
             [
              0.1111111111111111,
              "#46039f"
             ],
             [
              0.2222222222222222,
              "#7201a8"
             ],
             [
              0.3333333333333333,
              "#9c179e"
             ],
             [
              0.4444444444444444,
              "#bd3786"
             ],
             [
              0.5555555555555556,
              "#d8576b"
             ],
             [
              0.6666666666666666,
              "#ed7953"
             ],
             [
              0.7777777777777778,
              "#fb9f3a"
             ],
             [
              0.8888888888888888,
              "#fdca26"
             ],
             [
              1,
              "#f0f921"
             ]
            ],
            "type": "heatmap"
           }
          ],
          "heatmapgl": [
           {
            "colorbar": {
             "outlinewidth": 0,
             "ticks": ""
            },
            "colorscale": [
             [
              0,
              "#0d0887"
             ],
             [
              0.1111111111111111,
              "#46039f"
             ],
             [
              0.2222222222222222,
              "#7201a8"
             ],
             [
              0.3333333333333333,
              "#9c179e"
             ],
             [
              0.4444444444444444,
              "#bd3786"
             ],
             [
              0.5555555555555556,
              "#d8576b"
             ],
             [
              0.6666666666666666,
              "#ed7953"
             ],
             [
              0.7777777777777778,
              "#fb9f3a"
             ],
             [
              0.8888888888888888,
              "#fdca26"
             ],
             [
              1,
              "#f0f921"
             ]
            ],
            "type": "heatmapgl"
           }
          ],
          "histogram": [
           {
            "marker": {
             "colorbar": {
              "outlinewidth": 0,
              "ticks": ""
             }
            },
            "type": "histogram"
           }
          ],
          "histogram2d": [
           {
            "colorbar": {
             "outlinewidth": 0,
             "ticks": ""
            },
            "colorscale": [
             [
              0,
              "#0d0887"
             ],
             [
              0.1111111111111111,
              "#46039f"
             ],
             [
              0.2222222222222222,
              "#7201a8"
             ],
             [
              0.3333333333333333,
              "#9c179e"
             ],
             [
              0.4444444444444444,
              "#bd3786"
             ],
             [
              0.5555555555555556,
              "#d8576b"
             ],
             [
              0.6666666666666666,
              "#ed7953"
             ],
             [
              0.7777777777777778,
              "#fb9f3a"
             ],
             [
              0.8888888888888888,
              "#fdca26"
             ],
             [
              1,
              "#f0f921"
             ]
            ],
            "type": "histogram2d"
           }
          ],
          "histogram2dcontour": [
           {
            "colorbar": {
             "outlinewidth": 0,
             "ticks": ""
            },
            "colorscale": [
             [
              0,
              "#0d0887"
             ],
             [
              0.1111111111111111,
              "#46039f"
             ],
             [
              0.2222222222222222,
              "#7201a8"
             ],
             [
              0.3333333333333333,
              "#9c179e"
             ],
             [
              0.4444444444444444,
              "#bd3786"
             ],
             [
              0.5555555555555556,
              "#d8576b"
             ],
             [
              0.6666666666666666,
              "#ed7953"
             ],
             [
              0.7777777777777778,
              "#fb9f3a"
             ],
             [
              0.8888888888888888,
              "#fdca26"
             ],
             [
              1,
              "#f0f921"
             ]
            ],
            "type": "histogram2dcontour"
           }
          ],
          "mesh3d": [
           {
            "colorbar": {
             "outlinewidth": 0,
             "ticks": ""
            },
            "type": "mesh3d"
           }
          ],
          "parcoords": [
           {
            "line": {
             "colorbar": {
              "outlinewidth": 0,
              "ticks": ""
             }
            },
            "type": "parcoords"
           }
          ],
          "pie": [
           {
            "automargin": true,
            "type": "pie"
           }
          ],
          "scatter": [
           {
            "marker": {
             "colorbar": {
              "outlinewidth": 0,
              "ticks": ""
             }
            },
            "type": "scatter"
           }
          ],
          "scatter3d": [
           {
            "line": {
             "colorbar": {
              "outlinewidth": 0,
              "ticks": ""
             }
            },
            "marker": {
             "colorbar": {
              "outlinewidth": 0,
              "ticks": ""
             }
            },
            "type": "scatter3d"
           }
          ],
          "scattercarpet": [
           {
            "marker": {
             "colorbar": {
              "outlinewidth": 0,
              "ticks": ""
             }
            },
            "type": "scattercarpet"
           }
          ],
          "scattergeo": [
           {
            "marker": {
             "colorbar": {
              "outlinewidth": 0,
              "ticks": ""
             }
            },
            "type": "scattergeo"
           }
          ],
          "scattergl": [
           {
            "marker": {
             "colorbar": {
              "outlinewidth": 0,
              "ticks": ""
             }
            },
            "type": "scattergl"
           }
          ],
          "scattermapbox": [
           {
            "marker": {
             "colorbar": {
              "outlinewidth": 0,
              "ticks": ""
             }
            },
            "type": "scattermapbox"
           }
          ],
          "scatterpolar": [
           {
            "marker": {
             "colorbar": {
              "outlinewidth": 0,
              "ticks": ""
             }
            },
            "type": "scatterpolar"
           }
          ],
          "scatterpolargl": [
           {
            "marker": {
             "colorbar": {
              "outlinewidth": 0,
              "ticks": ""
             }
            },
            "type": "scatterpolargl"
           }
          ],
          "scatterternary": [
           {
            "marker": {
             "colorbar": {
              "outlinewidth": 0,
              "ticks": ""
             }
            },
            "type": "scatterternary"
           }
          ],
          "surface": [
           {
            "colorbar": {
             "outlinewidth": 0,
             "ticks": ""
            },
            "colorscale": [
             [
              0,
              "#0d0887"
             ],
             [
              0.1111111111111111,
              "#46039f"
             ],
             [
              0.2222222222222222,
              "#7201a8"
             ],
             [
              0.3333333333333333,
              "#9c179e"
             ],
             [
              0.4444444444444444,
              "#bd3786"
             ],
             [
              0.5555555555555556,
              "#d8576b"
             ],
             [
              0.6666666666666666,
              "#ed7953"
             ],
             [
              0.7777777777777778,
              "#fb9f3a"
             ],
             [
              0.8888888888888888,
              "#fdca26"
             ],
             [
              1,
              "#f0f921"
             ]
            ],
            "type": "surface"
           }
          ],
          "table": [
           {
            "cells": {
             "fill": {
              "color": "#EBF0F8"
             },
             "line": {
              "color": "white"
             }
            },
            "header": {
             "fill": {
              "color": "#C8D4E3"
             },
             "line": {
              "color": "white"
             }
            },
            "type": "table"
           }
          ]
         },
         "layout": {
          "annotationdefaults": {
           "arrowcolor": "#2a3f5f",
           "arrowhead": 0,
           "arrowwidth": 1
          },
          "autotypenumbers": "strict",
          "coloraxis": {
           "colorbar": {
            "outlinewidth": 0,
            "ticks": ""
           }
          },
          "colorscale": {
           "diverging": [
            [
             0,
             "#8e0152"
            ],
            [
             0.1,
             "#c51b7d"
            ],
            [
             0.2,
             "#de77ae"
            ],
            [
             0.3,
             "#f1b6da"
            ],
            [
             0.4,
             "#fde0ef"
            ],
            [
             0.5,
             "#f7f7f7"
            ],
            [
             0.6,
             "#e6f5d0"
            ],
            [
             0.7,
             "#b8e186"
            ],
            [
             0.8,
             "#7fbc41"
            ],
            [
             0.9,
             "#4d9221"
            ],
            [
             1,
             "#276419"
            ]
           ],
           "sequential": [
            [
             0,
             "#0d0887"
            ],
            [
             0.1111111111111111,
             "#46039f"
            ],
            [
             0.2222222222222222,
             "#7201a8"
            ],
            [
             0.3333333333333333,
             "#9c179e"
            ],
            [
             0.4444444444444444,
             "#bd3786"
            ],
            [
             0.5555555555555556,
             "#d8576b"
            ],
            [
             0.6666666666666666,
             "#ed7953"
            ],
            [
             0.7777777777777778,
             "#fb9f3a"
            ],
            [
             0.8888888888888888,
             "#fdca26"
            ],
            [
             1,
             "#f0f921"
            ]
           ],
           "sequentialminus": [
            [
             0,
             "#0d0887"
            ],
            [
             0.1111111111111111,
             "#46039f"
            ],
            [
             0.2222222222222222,
             "#7201a8"
            ],
            [
             0.3333333333333333,
             "#9c179e"
            ],
            [
             0.4444444444444444,
             "#bd3786"
            ],
            [
             0.5555555555555556,
             "#d8576b"
            ],
            [
             0.6666666666666666,
             "#ed7953"
            ],
            [
             0.7777777777777778,
             "#fb9f3a"
            ],
            [
             0.8888888888888888,
             "#fdca26"
            ],
            [
             1,
             "#f0f921"
            ]
           ]
          },
          "colorway": [
           "#636efa",
           "#EF553B",
           "#00cc96",
           "#ab63fa",
           "#FFA15A",
           "#19d3f3",
           "#FF6692",
           "#B6E880",
           "#FF97FF",
           "#FECB52"
          ],
          "font": {
           "color": "#2a3f5f"
          },
          "geo": {
           "bgcolor": "white",
           "lakecolor": "white",
           "landcolor": "#E5ECF6",
           "showlakes": true,
           "showland": true,
           "subunitcolor": "white"
          },
          "hoverlabel": {
           "align": "left"
          },
          "hovermode": "closest",
          "mapbox": {
           "style": "light"
          },
          "paper_bgcolor": "white",
          "plot_bgcolor": "#E5ECF6",
          "polar": {
           "angularaxis": {
            "gridcolor": "white",
            "linecolor": "white",
            "ticks": ""
           },
           "bgcolor": "#E5ECF6",
           "radialaxis": {
            "gridcolor": "white",
            "linecolor": "white",
            "ticks": ""
           }
          },
          "scene": {
           "xaxis": {
            "backgroundcolor": "#E5ECF6",
            "gridcolor": "white",
            "gridwidth": 2,
            "linecolor": "white",
            "showbackground": true,
            "ticks": "",
            "zerolinecolor": "white"
           },
           "yaxis": {
            "backgroundcolor": "#E5ECF6",
            "gridcolor": "white",
            "gridwidth": 2,
            "linecolor": "white",
            "showbackground": true,
            "ticks": "",
            "zerolinecolor": "white"
           },
           "zaxis": {
            "backgroundcolor": "#E5ECF6",
            "gridcolor": "white",
            "gridwidth": 2,
            "linecolor": "white",
            "showbackground": true,
            "ticks": "",
            "zerolinecolor": "white"
           }
          },
          "shapedefaults": {
           "line": {
            "color": "#2a3f5f"
           }
          },
          "ternary": {
           "aaxis": {
            "gridcolor": "white",
            "linecolor": "white",
            "ticks": ""
           },
           "baxis": {
            "gridcolor": "white",
            "linecolor": "white",
            "ticks": ""
           },
           "bgcolor": "#E5ECF6",
           "caxis": {
            "gridcolor": "white",
            "linecolor": "white",
            "ticks": ""
           }
          },
          "title": {
           "x": 0.05
          },
          "xaxis": {
           "automargin": true,
           "gridcolor": "white",
           "linecolor": "white",
           "ticks": "",
           "title": {
            "standoff": 15
           },
           "zerolinecolor": "white",
           "zerolinewidth": 2
          },
          "yaxis": {
           "automargin": true,
           "gridcolor": "white",
           "linecolor": "white",
           "ticks": "",
           "title": {
            "standoff": 15
           },
           "zerolinecolor": "white",
           "zerolinewidth": 2
          }
         }
        },
        "title": {
         "text": "Cosine"
        },
        "width": 1000,
        "xaxis": {
         "anchor": "y",
         "autorange": true,
         "domain": [
          0,
          1
         ],
         "range": [
          2.3973843303057625,
          16.40936215254336
         ],
         "title": {
          "text": "dim0"
         },
         "type": "linear"
        },
        "yaxis": {
         "anchor": "x",
         "autorange": true,
         "domain": [
          0,
          1
         ],
         "range": [
          0.5169784339070926,
          5.479149588763653
         ],
         "title": {
          "text": "dim1"
         },
         "type": "linear"
        }
       }
      },
      "image/png": "[encoded data removed]",
      "text/html": [
       "<div>                            <div id=\"01a3118c-d2cd-49c9-9318-76069eacdbec\" class=\"plotly-graph-div\" style=\"height:700px; width:1000px;\"></div>            <script type=\"text/javascript\">                require([\"plotly\"], function(Plotly) {                    window.PLOTLYENV=window.PLOTLYENV || {};                                    if (document.getElementById(\"01a3118c-d2cd-49c9-9318-76069eacdbec\")) {                    Plotly.newPlot(                        \"01a3118c-d2cd-49c9-9318-76069eacdbec\",                        [{\"customdata\": [[\"Machine Learning\", \"Association for the Advancement of Artificial Intelligence\"], [\"Machine Learning\", \"International Conference on Machine Learning\"], [\"Machine Learning\", \"International Joint Conference on Artificial Intelligence\"], [\"Machine Learning\", \"Special Interest Group in Knowledge Discovery and Data Mining\"], [\"Machine Learning\", \"Neural Information Processing Systems\"], [\"Machine Learning\", \"Special Interest Group on Information Retrieval\"]], \"hovertemplate\": \"<b>%{hovertext}</b><br><br>group=%{customdata[0]}<br>name=%{text}<br>full_name=%{customdata[1]}<extra></extra>\", \"hovertext\": [\"aaai\", \"icml\", \"ijcai\", \"kdd\", \"nips\", \"sigir\"], \"legendgroup\": \"Machine Learning\", \"marker\": {\"color\": \"#636efa\", \"size\": 10, \"symbol\": \"circle\"}, \"mode\": \"markers+text\", \"name\": \"Machine Learning\", \"orientation\": \"v\", \"showlegend\": true, \"text\": [\"aaai\", \"icml\", \"ijcai\", \"kdd\", \"nips\", \"sigir\"], \"type\": \"scatter\", \"x\": [13.23847770690918, 13.062862396240234, 13.333284378051758, 13.561771392822266, 12.854575157165527, 13.807387351989746], \"xaxis\": \"x\", \"y\": [4.608943462371826, 4.112806797027588, 4.187192440032959, 4.251373291015625, 4.502476692199707, 4.222987651824951], \"yaxis\": \"y\"}, {\"customdata\": [[\"Natural Language Processing\", \"Association for Computational Linguistics\"], [\"Natural Language Processing\", \"Empirical Methods in Natural Language Processing\"], [\"Natural Language Processing\", \"North American Chapter of the Association for Computational Linguistics\"]], \"hovertemplate\": \"<b>%{hovertext}</b><br><br>group=%{customdata[0]}<br>name=%{text}<br>full_name=%{customdata[1]}<extra></extra>\", \"hovertext\": [\"acl\", \"emnlp\", \"naacl\"], \"legendgroup\": \"Natural Language Processing\", \"marker\": {\"color\": \"#EF553B\", \"size\": 10, \"symbol\": \"diamond\"}, \"mode\": \"markers+text\", \"name\": \"Natural Language Processing\", \"orientation\": \"v\", \"showlegend\": true, \"text\": [\"acl\", \"emnlp\", \"naacl\"], \"type\": \"scatter\", \"x\": [13.609323501586914, 13.84958553314209, 13.78170108795166], \"xaxis\": \"x\", \"y\": [4.457421779632568, 4.694553852081299, 4.7541823387146], \"yaxis\": \"y\"}, {\"customdata\": [[\"Systems\", \"International Conference on Architectural Support for Programming Languages and Operating Systems\"], [\"Systems\", \"European Conference on Computer Systems\"], [\"Systems\", \"Symposium on Operating Systems Design and Implementation\"], [\"Systems\", \"Symposium on Operating Systems Principles\"], [\"Systems\", \"Unix Users Group\"]], \"hovertemplate\": \"<b>%{hovertext}</b><br><br>group=%{customdata[0]}<br>name=%{text}<br>full_name=%{customdata[1]}<extra></extra>\", \"hovertext\": [\"asplos\", \"eurosys\", \"osdi\", \"sosp\", \"usenix\"], \"legendgroup\": \"Systems\", \"marker\": {\"color\": \"#00cc96\", \"size\": 10, \"symbol\": \"square\"}, \"mode\": \"markers+text\", \"name\": \"Systems\", \"orientation\": \"v\", \"showlegend\": true, \"text\": [\"asplos\", \"eurosys\", \"osdi\", \"sosp\", \"usenix\"], \"type\": \"scatter\", \"x\": [7.223482131958008, 8.09257698059082, 8.249763488769531, 8.575850486755371, 8.44030475616455], \"xaxis\": \"x\", \"y\": [1.3497645854949951, 2.1284759044647217, 2.5930893421173096, 2.359727144241333, 2.383148193359375], \"yaxis\": \"y\"}, {\"customdata\": [[\"Programming Languages\", \"International Conference on Computer-Aided Verification\"], [\"Programming Languages\", \"International Conference on Functional Programming\"], [\"Programming Languages\", \"Symposium on Logic in Computer Science\"], [\"Programming Languages\", \"Conference on Object-Oriented Programming Systems, Languages, and Applications\"], [\"Programming Languages\", \"Conference on Programming Language Design and Implementation\"], [\"Programming Languages\", \"Symposium on Principles of Programming Languages\"]], \"hovertemplate\": \"<b>%{hovertext}</b><br><br>group=%{customdata[0]}<br>name=%{text}<br>full_name=%{customdata[1]}<extra></extra>\", \"hovertext\": [\"cav\", \"icfp\", \"lics\", \"oopsla\", \"pldi\", \"popl\"], \"legendgroup\": \"Programming Languages\", \"marker\": {\"color\": \"#ab63fa\", \"size\": 10, \"symbol\": \"x\"}, \"mode\": \"markers+text\", \"name\": \"Programming Languages\", \"orientation\": \"v\", \"showlegend\": true, \"text\": [\"cav\", \"icfp\", \"lics\", \"oopsla\", \"pldi\", \"popl\"], \"type\": \"scatter\", \"x\": [3.7542552947998047, 3.3440325260162354, 3.2283029556274414, 3.514477014541626, 3.3770861625671387, 3.379014015197754], \"xaxis\": \"x\", \"y\": [2.758046865463257, 2.6374049186706543, 2.9958596229553223, 3.0956926345825195, 2.856837511062622, 3.194378614425659], \"yaxis\": \"y\"}, {\"customdata\": [[\"Security\", \"Conference on Computer and Communications Security\"], [\"Security\", \"Network and Distributed System Security Symposium\"], [\"Security\", \"Symposium on Security and Privacy\"], [\"Security\", \"USENIX Security Symposia\"]], \"hovertemplate\": \"<b>%{hovertext}</b><br><br>group=%{customdata[0]}<br>name=%{text}<br>full_name=%{customdata[1]}<extra></extra>\", \"hovertext\": [\"ccs\", \"ndss\", \"sp\", \"uss\"], \"legendgroup\": \"Security\", \"marker\": {\"color\": \"#FFA15A\", \"size\": 10, \"symbol\": \"cross\"}, \"mode\": \"markers+text\", \"name\": \"Security\", \"orientation\": \"v\", \"showlegend\": true, \"text\": [\"ccs\", \"ndss\", \"sp\", \"uss\"], \"type\": \"scatter\", \"x\": [9.674522399902344, 9.656962394714355, 9.640398979187012, 9.420327186584473], \"xaxis\": \"x\", \"y\": [2.118359088897705, 1.8554155826568604, 1.9622468948364258, 1.8035024404525757], \"yaxis\": \"y\"}, {\"customdata\": [[\"Human Computer Interaction\", \"Conference on Human Factors in Computing Systems\"], [\"Human Computer Interaction\", \"International Symposium on Handheld and Ubiquitous Computing\"], [\"Human Computer Interaction\", \"International Conference on Pervasive Computing and Communications\"], [\"Human Computer Interaction\", \"Symposium on User Interface Software and Technology\"]], \"hovertemplate\": \"<b>%{hovertext}</b><br><br>group=%{customdata[0]}<br>name=%{text}<br>full_name=%{customdata[1]}<extra></extra>\", \"hovertext\": [\"chi\", \"huc\", \"pervasive\", \"uist\"], \"legendgroup\": \"Human Computer Interaction\", \"marker\": {\"color\": \"#19d3f3\", \"size\": 10, \"symbol\": \"circle\"}, \"mode\": \"markers+text\", \"name\": \"Human Computer Interaction\", \"orientation\": \"v\", \"showlegend\": true, \"text\": [\"chi\", \"huc\", \"pervasive\", \"uist\"], \"type\": \"scatter\", \"x\": [11.010531425476074, 10.937381744384766, 10.599686622619629, 11.223401069641113], \"xaxis\": \"x\", \"y\": [4.175011157989502, 3.7228288650512695, 3.757742404937744, 3.8148951530456543], \"yaxis\": \"y\"}, {\"customdata\": [[\"Cryptography\", \"International Cryptology Conference\"], [\"Cryptography\", \"Conference on the Theory and Applications of Cryptographic Techniques\"]], \"hovertemplate\": \"<b>%{hovertext}</b><br><br>group=%{customdata[0]}<br>name=%{text}<br>full_name=%{customdata[1]}<extra></extra>\", \"hovertext\": [\"crypto\", \"eurocrypt\"], \"legendgroup\": \"Cryptography\", \"marker\": {\"color\": \"#FF6692\", \"size\": 10, \"symbol\": \"diamond\"}, \"mode\": \"markers+text\", \"name\": \"Cryptography\", \"orientation\": \"v\", \"showlegend\": true, \"text\": [\"crypto\", \"eurocrypt\"], \"type\": \"scatter\", \"x\": [10.141524314880371, 9.995695114135742], \"xaxis\": \"x\", \"y\": [1.9016978740692139, 1.5236670970916748], \"yaxis\": \"y\"}, {\"customdata\": [[\"Computer Vision\", \"Computer Vision and Pattern Recognition\"], [\"Computer Vision\", \"European Conference for Computer Vision\"], [\"Computer Vision\", \"International Conference on Conputer Vision\"]], \"hovertemplate\": \"<b>%{hovertext}</b><br><br>group=%{customdata[0]}<br>name=%{text}<br>full_name=%{customdata[1]}<extra></extra>\", \"hovertext\": [\"cvpr\", \"eccv\", \"iccv\"], \"legendgroup\": \"Computer Vision\", \"marker\": {\"color\": \"#B6E880\", \"size\": 10, \"symbol\": \"square\"}, \"mode\": \"markers+text\", \"name\": \"Computer Vision\", \"orientation\": \"v\", \"showlegend\": true, \"text\": [\"cvpr\", \"eccv\", \"iccv\"], \"type\": \"scatter\", \"x\": [12.911199569702148, 13.001885414123535, 12.890115737915039], \"xaxis\": \"x\", \"y\": [4.835293769836426, 5.125326156616211, 5.175659656524658], \"yaxis\": \"y\"}, {\"customdata\": [[\"Embedded Systems\", \"Design Automation Conference\"], [\"Embedded Systems\", \"International Conference on Embedded Software\"], [\"Embedded Systems\", \"Real-time and Embedded Technology and Applications Symposium\"], [\"Embedded Systems\", \"Real-Time Systems Symposium\"]], \"hovertemplate\": \"<b>%{hovertext}</b><br><br>group=%{customdata[0]}<br>name=%{text}<br>full_name=%{customdata[1]}<extra></extra>\", \"hovertext\": [\"dac\", \"emsoft\", \"rtas\", \"rtss\"], \"legendgroup\": \"Embedded Systems\", \"marker\": {\"color\": \"#FF97FF\", \"size\": 10, \"symbol\": \"x\"}, \"mode\": \"markers+text\", \"name\": \"Embedded Systems\", \"orientation\": \"v\", \"showlegend\": true, \"text\": [\"dac\", \"emsoft\", \"rtas\", \"rtss\"], \"type\": \"scatter\", \"x\": [6.725076675415039, 6.885135173797607, 7.322359085083008, 7.133998870849609], \"xaxis\": \"x\", \"y\": [1.1301493644714355, 2.1012444496154785, 2.239706516265869, 2.0926873683929443], \"yaxis\": \"y\"}, {\"customdata\": [[\"Databases\", \"Conference on File and Storage Technologies\"], [\"Databases\", \"International Conference on Data Engineering\"], [\"Databases\", \"Symposium on Principles of Database Systems\"], [\"Databases\", \"Special Interest Group on Management of Data\"]], \"hovertemplate\": \"<b>%{hovertext}</b><br><br>group=%{customdata[0]}<br>name=%{text}<br>full_name=%{customdata[1]}<extra></extra>\", \"hovertext\": [\"fast\", \"icde\", \"pods\", \"sigmod\"], \"legendgroup\": \"Databases\", \"marker\": {\"color\": \"#FECB52\", \"size\": 10, \"symbol\": \"cross\"}, \"mode\": \"markers+text\", \"name\": \"Databases\", \"orientation\": \"v\", \"showlegend\": true, \"text\": [\"fast\", \"icde\", \"pods\", \"sigmod\"], \"type\": \"scatter\", \"x\": [8.197147369384766, 13.929606437683105, 14.966776847839355, 13.458266258239746], \"xaxis\": \"x\", \"y\": [2.230228900909424, 3.953451633453369, 3.757366895675659, 3.8470981121063232], \"yaxis\": \"y\"}, {\"customdata\": [[\"Algorithms\", \"Symposium on Foundations of Computer Science\"], [\"Algorithms\", \"Symposium on Discrete Algorithms\"], [\"Algorithms\", \"Symposium on Theory of Computing\"]], \"hovertemplate\": \"<b>%{hovertext}</b><br><br>group=%{customdata[0]}<br>name=%{text}<br>full_name=%{customdata[1]}<extra></extra>\", \"hovertext\": [\"focs\", \"soda\", \"stoc\"], \"legendgroup\": \"Algorithms\", \"marker\": {\"color\": \"#636efa\", \"size\": 10, \"symbol\": \"circle\"}, \"mode\": \"markers+text\", \"name\": \"Algorithms\", \"orientation\": \"v\", \"showlegend\": true, \"text\": [\"focs\", \"soda\", \"stoc\"], \"type\": \"scatter\", \"x\": [15.36244010925293, 15.57844352722168, 15.020058631896973], \"xaxis\": \"x\", \"y\": [3.677952527999878, 3.5167346000671387, 3.5611369609832764], \"yaxis\": \"y\"}, {\"customdata\": [[\"High Performance Computing\", \"International Symposium on High-Performance Computer Architecture\"], [\"High Performance Computing\", \"Symposium on High-Performance Parallel and Distributed Computing\"], [\"High Performance Computing\", \"International Conference on Supercomputing\"], [\"High Performance Computing\", \"Supercomputing Conference\"]], \"hovertemplate\": \"<b>%{hovertext}</b><br><br>group=%{customdata[0]}<br>name=%{text}<br>full_name=%{customdata[1]}<extra></extra>\", \"hovertext\": [\"hpca\", \"hpdc\", \"ics\", \"sc\"], \"legendgroup\": \"High Performance Computing\", \"marker\": {\"color\": \"#EF553B\", \"size\": 10, \"symbol\": \"diamond\"}, \"mode\": \"markers+text\", \"name\": \"High Performance Computing\", \"orientation\": \"v\", \"showlegend\": true, \"text\": [\"hpca\", \"hpdc\", \"ics\", \"sc\"], \"type\": \"scatter\", \"x\": [7.110466003417969, 7.561252117156982, 7.336055755615234, 7.351202964782715], \"xaxis\": \"x\", \"y\": [0.9874306917190552, 1.1342511177062988, 0.8204683661460876, 0.9083911180496216], \"yaxis\": \"y\"}, {\"customdata\": [[\"Other\", \"International Conference On Computer Aided Design\"], [\"Other\", \"International Conference on Research in Computational Molecular Biology\"], [\"Other\", \"Special Interest Group on Economics and Computation\"], [\"Other\", \"Special Interest Group on Measurement and Evaluation\"], [\"Other\", \"Virtual Reality Conference\"], [\"Other\", \"Conference on Web and Internet Economics\"]], \"hovertemplate\": \"<b>%{hovertext}</b><br><br>group=%{customdata[0]}<br>name=%{text}<br>full_name=%{customdata[1]}<extra></extra>\", \"hovertext\": [\"iccad\", \"recomb\", \"sigecom\", \"sigmetrics\", \"vr\", \"wine\"], \"legendgroup\": \"Other\", \"marker\": {\"color\": \"#00cc96\", \"size\": 10, \"symbol\": \"square\"}, \"mode\": \"markers+text\", \"name\": \"Other\", \"orientation\": \"v\", \"showlegend\": true, \"text\": [\"iccad\", \"recomb\", \"sigecom\", \"sigmetrics\", \"vr\", \"wine\"], \"type\": \"scatter\", \"x\": [6.945235252380371, 13.197412490844727, 15.270787239074707, 8.184554100036621, 11.369097709655762, 15.480537414550781], \"xaxis\": \"x\", \"y\": [1.5227527618408203, 3.771273374557495, 3.7756099700927734, 2.731358766555786, 4.132081985473633, 3.5007002353668213], \"yaxis\": \"y\"}, {\"customdata\": [[\"Robotics\", \"International Conference on Robotics and Automation\"], [\"Robotics\", \"International Conference on Intelligent Robots and Systems\"], [\"Robotics\", \"Robotics: Science and Systems\"]], \"hovertemplate\": \"<b>%{hovertext}</b><br><br>group=%{customdata[0]}<br>name=%{text}<br>full_name=%{customdata[1]}<extra></extra>\", \"hovertext\": [\"icra\", \"iros\", \"rss\"], \"legendgroup\": \"Robotics\", \"marker\": {\"color\": \"#ab63fa\", \"size\": 10, \"symbol\": \"x\"}, \"mode\": \"markers+text\", \"name\": \"Robotics\", \"orientation\": \"v\", \"showlegend\": true, \"text\": [\"icra\", \"iros\", \"rss\"], \"type\": \"scatter\", \"x\": [12.296375274658203, 12.494866371154785, 12.398762702941895], \"xaxis\": \"x\", \"y\": [4.725592136383057, 4.90412712097168, 5.075024127960205], \"yaxis\": \"y\"}, {\"customdata\": [[\"Software Engineering\", \"International Conference on Software Engineering\"], [\"Software Engineering\", \"International Symposium on Software Testing and Analysis\"], [\"Software Engineering\", \"Knowledge-Based Software Engineering Conference\"], [\"Software Engineering\", \"Special Interest Group on Software Engineering\"]], \"hovertemplate\": \"<b>%{hovertext}</b><br><br>group=%{customdata[0]}<br>name=%{text}<br>full_name=%{customdata[1]}<extra></extra>\", \"hovertext\": [\"icse\", \"issta\", \"kbse\", \"sigsoft\"], \"legendgroup\": \"Software Engineering\", \"marker\": {\"color\": \"#FFA15A\", \"size\": 10, \"symbol\": \"cross\"}, \"mode\": \"markers+text\", \"name\": \"Software Engineering\", \"orientation\": \"v\", \"showlegend\": true, \"text\": [\"icse\", \"issta\", \"kbse\", \"sigsoft\"], \"type\": \"scatter\", \"x\": [3.971190929412842, 4.011970043182373, 3.7536163330078125, 3.644927978515625], \"xaxis\": \"x\", \"y\": [3.187018871307373, 3.1238491535186768, 3.3476719856262207, 3.4206230640411377], \"yaxis\": \"y\"}, {\"customdata\": [[\"Networks\", \"Internet Measurement Conference\"], [\"Networks\", \"Networked Systems Design and Implementation\"], [\"Networks\", \"Special Interest Group on Data Communications\"], [\"Networks\", \"World Wide Web Conference\"]], \"hovertemplate\": \"<b>%{hovertext}</b><br><br>group=%{customdata[0]}<br>name=%{text}<br>full_name=%{customdata[1]}<extra></extra>\", \"hovertext\": [\"imc\", \"nsdi\", \"sigcomm\", \"www\"], \"legendgroup\": \"Networks\", \"marker\": {\"color\": \"#19d3f3\", \"size\": 10, \"symbol\": \"circle\"}, \"mode\": \"markers+text\", \"name\": \"Networks\", \"orientation\": \"v\", \"showlegend\": true, \"text\": [\"imc\", \"nsdi\", \"sigcomm\", \"www\"], \"type\": \"scatter\", \"x\": [9.43881607055664, 8.830607414245605, 8.576783180236816, 13.515816688537598], \"xaxis\": \"x\", \"y\": [2.3788414001464844, 2.4493584632873535, 2.8676767349243164, 3.796570062637329], \"yaxis\": \"y\"}, {\"customdata\": [[\"Computer Architecture\", \"International Symposium on Computer Architecture\"], [\"Computer Architecture\", \"International Symposium on Microarchitecture\"]], \"hovertemplate\": \"<b>%{hovertext}</b><br><br>group=%{customdata[0]}<br>name=%{text}<br>full_name=%{customdata[1]}<extra></extra>\", \"hovertext\": [\"isca\", \"micro\"], \"legendgroup\": \"Computer Architecture\", \"marker\": {\"color\": \"#FF6692\", \"size\": 10, \"symbol\": \"diamond\"}, \"mode\": \"markers+text\", \"name\": \"Computer Architecture\", \"orientation\": \"v\", \"showlegend\": true, \"text\": [\"isca\", \"micro\"], \"type\": \"scatter\", \"x\": [6.8694891929626465, 6.943065643310547], \"xaxis\": \"x\", \"y\": [0.9564247131347656, 1.0852391719818115], \"yaxis\": \"y\"}, {\"customdata\": [[\"Mobile Computing\", \"International Conference on Mobile Computing\"], [\"Mobile Computing\", \"International Conference on Mobile Systems\"], [\"Mobile Computing\", \"Conference on Embedded Networked Sensor Systems\"]], \"hovertemplate\": \"<b>%{hovertext}</b><br><br>group=%{customdata[0]}<br>name=%{text}<br>full_name=%{customdata[1]}<extra></extra>\", \"hovertext\": [\"mobicom\", \"mobisys\", \"sensys\"], \"legendgroup\": \"Mobile Computing\", \"marker\": {\"color\": \"#B6E880\", \"size\": 10, \"symbol\": \"square\"}, \"mode\": \"markers+text\", \"name\": \"Mobile Computing\", \"orientation\": \"v\", \"showlegend\": true, \"text\": [\"mobicom\", \"mobisys\", \"sensys\"], \"type\": \"scatter\", \"x\": [9.904021263122559, 9.775846481323242, 10.131232261657715], \"xaxis\": \"x\", \"y\": [3.1679325103759766, 3.358341932296753, 3.5274550914764404], \"yaxis\": \"y\"}],                        {\"height\": 700, \"legend\": {\"title\": {\"text\": \"group\"}, \"tracegroupgap\": 0}, \"margin\": {\"t\": 60}, \"template\": {\"data\": {\"bar\": [{\"error_x\": {\"color\": \"#2a3f5f\"}, \"error_y\": {\"color\": \"#2a3f5f\"}, \"marker\": {\"line\": {\"color\": \"#E5ECF6\", \"width\": 0.5}}, \"type\": \"bar\"}], \"barpolar\": [{\"marker\": {\"line\": {\"color\": \"#E5ECF6\", \"width\": 0.5}}, \"type\": \"barpolar\"}], \"carpet\": [{\"aaxis\": {\"endlinecolor\": \"#2a3f5f\", \"gridcolor\": \"white\", \"linecolor\": \"white\", \"minorgridcolor\": \"white\", \"startlinecolor\": \"#2a3f5f\"}, \"baxis\": {\"endlinecolor\": \"#2a3f5f\", \"gridcolor\": \"white\", \"linecolor\": \"white\", \"minorgridcolor\": \"white\", \"startlinecolor\": \"#2a3f5f\"}, \"type\": \"carpet\"}], \"choropleth\": [{\"colorbar\": {\"outlinewidth\": 0, \"ticks\": \"\"}, \"type\": \"choropleth\"}], \"contour\": [{\"colorbar\": {\"outlinewidth\": 0, \"ticks\": \"\"}, \"colorscale\": [[0.0, \"#0d0887\"], [0.1111111111111111, \"#46039f\"], [0.2222222222222222, \"#7201a8\"], [0.3333333333333333, \"#9c179e\"], [0.4444444444444444, \"#bd3786\"], [0.5555555555555556, \"#d8576b\"], [0.6666666666666666, \"#ed7953\"], [0.7777777777777778, \"#fb9f3a\"], [0.8888888888888888, \"#fdca26\"], [1.0, \"#f0f921\"]], \"type\": \"contour\"}], \"contourcarpet\": [{\"colorbar\": {\"outlinewidth\": 0, \"ticks\": \"\"}, \"type\": \"contourcarpet\"}], \"heatmap\": [{\"colorbar\": {\"outlinewidth\": 0, \"ticks\": \"\"}, \"colorscale\": [[0.0, \"#0d0887\"], [0.1111111111111111, \"#46039f\"], [0.2222222222222222, \"#7201a8\"], [0.3333333333333333, \"#9c179e\"], [0.4444444444444444, \"#bd3786\"], [0.5555555555555556, \"#d8576b\"], [0.6666666666666666, \"#ed7953\"], [0.7777777777777778, \"#fb9f3a\"], [0.8888888888888888, \"#fdca26\"], [1.0, \"#f0f921\"]], \"type\": \"heatmap\"}], \"heatmapgl\": [{\"colorbar\": {\"outlinewidth\": 0, \"ticks\": \"\"}, \"colorscale\": [[0.0, \"#0d0887\"], [0.1111111111111111, \"#46039f\"], [0.2222222222222222, \"#7201a8\"], [0.3333333333333333, \"#9c179e\"], [0.4444444444444444, \"#bd3786\"], [0.5555555555555556, \"#d8576b\"], [0.6666666666666666, \"#ed7953\"], [0.7777777777777778, \"#fb9f3a\"], [0.8888888888888888, \"#fdca26\"], [1.0, \"#f0f921\"]], \"type\": \"heatmapgl\"}], \"histogram\": [{\"marker\": {\"colorbar\": {\"outlinewidth\": 0, \"ticks\": \"\"}}, \"type\": \"histogram\"}], \"histogram2d\": [{\"colorbar\": {\"outlinewidth\": 0, \"ticks\": \"\"}, \"colorscale\": [[0.0, \"#0d0887\"], [0.1111111111111111, \"#46039f\"], [0.2222222222222222, \"#7201a8\"], [0.3333333333333333, \"#9c179e\"], [0.4444444444444444, \"#bd3786\"], [0.5555555555555556, \"#d8576b\"], [0.6666666666666666, \"#ed7953\"], [0.7777777777777778, \"#fb9f3a\"], [0.8888888888888888, \"#fdca26\"], [1.0, \"#f0f921\"]], \"type\": \"histogram2d\"}], \"histogram2dcontour\": [{\"colorbar\": {\"outlinewidth\": 0, \"ticks\": \"\"}, \"colorscale\": [[0.0, \"#0d0887\"], [0.1111111111111111, \"#46039f\"], [0.2222222222222222, \"#7201a8\"], [0.3333333333333333, \"#9c179e\"], [0.4444444444444444, \"#bd3786\"], [0.5555555555555556, \"#d8576b\"], [0.6666666666666666, \"#ed7953\"], [0.7777777777777778, \"#fb9f3a\"], [0.8888888888888888, \"#fdca26\"], [1.0, \"#f0f921\"]], \"type\": \"histogram2dcontour\"}], \"mesh3d\": [{\"colorbar\": {\"outlinewidth\": 0, \"ticks\": \"\"}, \"type\": \"mesh3d\"}], \"parcoords\": [{\"line\": {\"colorbar\": {\"outlinewidth\": 0, \"ticks\": \"\"}}, \"type\": \"parcoords\"}], \"pie\": [{\"automargin\": true, \"type\": \"pie\"}], \"scatter\": [{\"marker\": {\"colorbar\": {\"outlinewidth\": 0, \"ticks\": \"\"}}, \"type\": \"scatter\"}], \"scatter3d\": [{\"line\": {\"colorbar\": {\"outlinewidth\": 0, \"ticks\": \"\"}}, \"marker\": {\"colorbar\": {\"outlinewidth\": 0, \"ticks\": \"\"}}, \"type\": \"scatter3d\"}], \"scattercarpet\": [{\"marker\": {\"colorbar\": {\"outlinewidth\": 0, \"ticks\": \"\"}}, \"type\": \"scattercarpet\"}], \"scattergeo\": [{\"marker\": {\"colorbar\": {\"outlinewidth\": 0, \"ticks\": \"\"}}, \"type\": \"scattergeo\"}], \"scattergl\": [{\"marker\": {\"colorbar\": {\"outlinewidth\": 0, \"ticks\": \"\"}}, \"type\": \"scattergl\"}], \"scattermapbox\": [{\"marker\": {\"colorbar\": {\"outlinewidth\": 0, \"ticks\": \"\"}}, \"type\": \"scattermapbox\"}], \"scatterpolar\": [{\"marker\": {\"colorbar\": {\"outlinewidth\": 0, \"ticks\": \"\"}}, \"type\": \"scatterpolar\"}], \"scatterpolargl\": [{\"marker\": {\"colorbar\": {\"outlinewidth\": 0, \"ticks\": \"\"}}, \"type\": \"scatterpolargl\"}], \"scatterternary\": [{\"marker\": {\"colorbar\": {\"outlinewidth\": 0, \"ticks\": \"\"}}, \"type\": \"scatterternary\"}], \"surface\": [{\"colorbar\": {\"outlinewidth\": 0, \"ticks\": \"\"}, \"colorscale\": [[0.0, \"#0d0887\"], [0.1111111111111111, \"#46039f\"], [0.2222222222222222, \"#7201a8\"], [0.3333333333333333, \"#9c179e\"], [0.4444444444444444, \"#bd3786\"], [0.5555555555555556, \"#d8576b\"], [0.6666666666666666, \"#ed7953\"], [0.7777777777777778, \"#fb9f3a\"], [0.8888888888888888, \"#fdca26\"], [1.0, \"#f0f921\"]], \"type\": \"surface\"}], \"table\": [{\"cells\": {\"fill\": {\"color\": \"#EBF0F8\"}, \"line\": {\"color\": \"white\"}}, \"header\": {\"fill\": {\"color\": \"#C8D4E3\"}, \"line\": {\"color\": \"white\"}}, \"type\": \"table\"}]}, \"layout\": {\"annotationdefaults\": {\"arrowcolor\": \"#2a3f5f\", \"arrowhead\": 0, \"arrowwidth\": 1}, \"autotypenumbers\": \"strict\", \"coloraxis\": {\"colorbar\": {\"outlinewidth\": 0, \"ticks\": \"\"}}, \"colorscale\": {\"diverging\": [[0, \"#8e0152\"], [0.1, \"#c51b7d\"], [0.2, \"#de77ae\"], [0.3, \"#f1b6da\"], [0.4, \"#fde0ef\"], [0.5, \"#f7f7f7\"], [0.6, \"#e6f5d0\"], [0.7, \"#b8e186\"], [0.8, \"#7fbc41\"], [0.9, \"#4d9221\"], [1, \"#276419\"]], \"sequential\": [[0.0, \"#0d0887\"], [0.1111111111111111, \"#46039f\"], [0.2222222222222222, \"#7201a8\"], [0.3333333333333333, \"#9c179e\"], [0.4444444444444444, \"#bd3786\"], [0.5555555555555556, \"#d8576b\"], [0.6666666666666666, \"#ed7953\"], [0.7777777777777778, \"#fb9f3a\"], [0.8888888888888888, \"#fdca26\"], [1.0, \"#f0f921\"]], \"sequentialminus\": [[0.0, \"#0d0887\"], [0.1111111111111111, \"#46039f\"], [0.2222222222222222, \"#7201a8\"], [0.3333333333333333, \"#9c179e\"], [0.4444444444444444, \"#bd3786\"], [0.5555555555555556, \"#d8576b\"], [0.6666666666666666, \"#ed7953\"], [0.7777777777777778, \"#fb9f3a\"], [0.8888888888888888, \"#fdca26\"], [1.0, \"#f0f921\"]]}, \"colorway\": [\"#636efa\", \"#EF553B\", \"#00cc96\", \"#ab63fa\", \"#FFA15A\", \"#19d3f3\", \"#FF6692\", \"#B6E880\", \"#FF97FF\", \"#FECB52\"], \"font\": {\"color\": \"#2a3f5f\"}, \"geo\": {\"bgcolor\": \"white\", \"lakecolor\": \"white\", \"landcolor\": \"#E5ECF6\", \"showlakes\": true, \"showland\": true, \"subunitcolor\": \"white\"}, \"hoverlabel\": {\"align\": \"left\"}, \"hovermode\": \"closest\", \"mapbox\": {\"style\": \"light\"}, \"paper_bgcolor\": \"white\", \"plot_bgcolor\": \"#E5ECF6\", \"polar\": {\"angularaxis\": {\"gridcolor\": \"white\", \"linecolor\": \"white\", \"ticks\": \"\"}, \"bgcolor\": \"#E5ECF6\", \"radialaxis\": {\"gridcolor\": \"white\", \"linecolor\": \"white\", \"ticks\": \"\"}}, \"scene\": {\"xaxis\": {\"backgroundcolor\": \"#E5ECF6\", \"gridcolor\": \"white\", \"gridwidth\": 2, \"linecolor\": \"white\", \"showbackground\": true, \"ticks\": \"\", \"zerolinecolor\": \"white\"}, \"yaxis\": {\"backgroundcolor\": \"#E5ECF6\", \"gridcolor\": \"white\", \"gridwidth\": 2, \"linecolor\": \"white\", \"showbackground\": true, \"ticks\": \"\", \"zerolinecolor\": \"white\"}, \"zaxis\": {\"backgroundcolor\": \"#E5ECF6\", \"gridcolor\": \"white\", \"gridwidth\": 2, \"linecolor\": \"white\", \"showbackground\": true, \"ticks\": \"\", \"zerolinecolor\": \"white\"}}, \"shapedefaults\": {\"line\": {\"color\": \"#2a3f5f\"}}, \"ternary\": {\"aaxis\": {\"gridcolor\": \"white\", \"linecolor\": \"white\", \"ticks\": \"\"}, \"baxis\": {\"gridcolor\": \"white\", \"linecolor\": \"white\", \"ticks\": \"\"}, \"bgcolor\": \"#E5ECF6\", \"caxis\": {\"gridcolor\": \"white\", \"linecolor\": \"white\", \"ticks\": \"\"}}, \"title\": {\"x\": 0.05}, \"xaxis\": {\"automargin\": true, \"gridcolor\": \"white\", \"linecolor\": \"white\", \"ticks\": \"\", \"title\": {\"standoff\": 15}, \"zerolinecolor\": \"white\", \"zerolinewidth\": 2}, \"yaxis\": {\"automargin\": true, \"gridcolor\": \"white\", \"linecolor\": \"white\", \"ticks\": \"\", \"title\": {\"standoff\": 15}, \"zerolinecolor\": \"white\", \"zerolinewidth\": 2}}}, \"title\": {\"text\": \"Cosine\"}, \"width\": 1000, \"xaxis\": {\"anchor\": \"y\", \"domain\": [0.0, 1.0], \"title\": {\"text\": \"dim0\"}}, \"yaxis\": {\"anchor\": \"x\", \"domain\": [0.0, 1.0], \"title\": {\"text\": \"dim1\"}}},                        {\"responsive\": true}                    ).then(function(){\n",
       "                            \n",
       "var gd = document.getElementById('01a3118c-d2cd-49c9-9318-76069eacdbec');\n",
       "var x = new MutationObserver(function (mutations, observer) {{\n",
       "        var display = window.getComputedStyle(gd).display;\n",
       "        if (!display || display === 'none') {{\n",
       "            console.log([gd, 'removed!']);\n",
       "            Plotly.purge(gd);\n",
       "            observer.disconnect();\n",
       "        }}\n",
       "}});\n",
       "\n",
       "// Listen for the removal of the full notebook cells\n",
       "var notebookContainer = gd.closest('#notebook-container');\n",
       "if (notebookContainer) {{\n",
       "    x.observe(notebookContainer, {childList: true});\n",
       "}}\n",
       "\n",
       "// Listen for the clearing of the current output cell\n",
       "var outputEl = gd.closest('.output');\n",
       "if (outputEl) {{\n",
       "    x.observe(outputEl, {childList: true});\n",
       "}}\n",
       "\n",
       "                        })                };                });            </script>        </div>"
      ]
     },
     "metadata": {},
     "output_type": "display_data"
    }
   ],
   "source": [
    "%%time\n",
    "reducer = umap.UMAP(random_state=42, metric='cosine')\n",
    "embedding = reducer.fit_transform(data.iloc[:,3:].values)\n",
    "\n",
    "embedding_df = pd.DataFrame(embedding, columns=['dim0','dim1'])\n",
    "embedding_df[data.iloc[:,:3].columns] = data.iloc[:,:3]\n",
    "embedding_df\n",
    "\n",
    "fig = px.scatter(data_frame=embedding_df, \n",
    "                 x='dim0', y='dim1', color='group', symbol='group', text='name', \n",
    "                 hover_name='name', hover_data={'group':True, 'full_name':True, 'dim0':False, 'dim1':False})\n",
    "for trace in fig.data:\n",
    "    trace.marker.size = 10\n",
    "fig.layout.height = 700\n",
    "fig.layout.width = 1000\n",
    "fig.layout.title = 'Cosine'\n",
    "fig"
   ]
  },
  {
   "cell_type": "code",
   "execution_count": 90,
   "id": "august-forest",
   "metadata": {},
   "outputs": [],
   "source": [
    "fig.write_image(\"Cosine.png\")"
   ]
  },
  {
   "cell_type": "code",
   "execution_count": null,
   "id": "common-interface",
   "metadata": {},
   "outputs": [],
   "source": []
  },
  {
   "cell_type": "code",
   "execution_count": null,
   "id": "musical-perry",
   "metadata": {},
   "outputs": [],
   "source": []
  },
  {
   "cell_type": "code",
   "execution_count": null,
   "id": "phantom-france",
   "metadata": {},
   "outputs": [],
   "source": []
  },
  {
   "cell_type": "code",
   "execution_count": null,
   "id": "medium-flavor",
   "metadata": {},
   "outputs": [],
   "source": []
  }
 ],
 "metadata": {
  "kernelspec": {
   "display_name": "Python 3",
   "language": "python",
   "name": "python3"
  },
  "language_info": {
   "codemirror_mode": {
    "name": "ipython",
    "version": 3
   },
   "file_extension": ".py",
   "mimetype": "text/x-python",
   "name": "python",
   "nbconvert_exporter": "python",
   "pygments_lexer": "ipython3",
   "version": "3.8.5"
  }
 },
 "nbformat": 4,
 "nbformat_minor": 5
}
